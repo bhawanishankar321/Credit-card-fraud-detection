{
 "cells": [
  {
   "cell_type": "markdown",
   "metadata": {
    "papermill": {
     "duration": 0.059116,
     "end_time": "2021-01-03T05:19:09.354902",
     "exception": false,
     "start_time": "2021-01-03T05:19:09.295786",
     "status": "completed"
    },
    "tags": []
   },
   "source": [
    "## Credit Card Fraud Detection\n",
    "\n",
    "In this project you will predict fraudulent credit card transactions with the help of Machine learning models. Please import the following libraries to get started."
   ]
  },
  {
   "cell_type": "code",
   "execution_count": 1,
   "metadata": {
    "execution": {
     "iopub.execute_input": "2021-01-03T05:19:09.479745Z",
     "iopub.status.busy": "2021-01-03T05:19:09.475879Z",
     "iopub.status.idle": "2021-01-03T05:19:10.548126Z",
     "shell.execute_reply": "2021-01-03T05:19:10.547226Z"
    },
    "papermill": {
     "duration": 1.137336,
     "end_time": "2021-01-03T05:19:10.548277",
     "exception": false,
     "start_time": "2021-01-03T05:19:09.410941",
     "status": "completed"
    },
    "scrolled": false,
    "tags": []
   },
   "outputs": [],
   "source": [
    "import numpy as np\n",
    "import pandas as pd\n",
    "\n",
    "import matplotlib.pyplot as plt\n",
    "%matplotlib inline\n",
    "import seaborn as sns\n",
    "\n",
    "from sklearn import metrics\n",
    "from sklearn import preprocessing\n",
    "import time"
   ]
  },
  {
   "cell_type": "markdown",
   "metadata": {
    "papermill": {
     "duration": 0.055422,
     "end_time": "2021-01-03T05:19:10.660430",
     "exception": false,
     "start_time": "2021-01-03T05:19:10.605008",
     "status": "completed"
    },
    "tags": []
   },
   "source": [
    "## Exploratory data analysis"
   ]
  },
  {
   "cell_type": "code",
   "execution_count": 2,
   "metadata": {
    "execution": {
     "iopub.execute_input": "2021-01-03T05:19:10.782982Z",
     "iopub.status.busy": "2021-01-03T05:19:10.782304Z",
     "iopub.status.idle": "2021-01-03T05:19:14.378384Z",
     "shell.execute_reply": "2021-01-03T05:19:14.377739Z"
    },
    "papermill": {
     "duration": 3.661695,
     "end_time": "2021-01-03T05:19:14.378490",
     "exception": false,
     "start_time": "2021-01-03T05:19:10.716795",
     "status": "completed"
    },
    "tags": []
   },
   "outputs": [
    {
     "data": {
      "text/html": [
       "<div>\n",
       "<style scoped>\n",
       "    .dataframe tbody tr th:only-of-type {\n",
       "        vertical-align: middle;\n",
       "    }\n",
       "\n",
       "    .dataframe tbody tr th {\n",
       "        vertical-align: top;\n",
       "    }\n",
       "\n",
       "    .dataframe thead th {\n",
       "        text-align: right;\n",
       "    }\n",
       "</style>\n",
       "<table border=\"1\" class=\"dataframe\">\n",
       "  <thead>\n",
       "    <tr style=\"text-align: right;\">\n",
       "      <th></th>\n",
       "      <th>Time</th>\n",
       "      <th>V1</th>\n",
       "      <th>V2</th>\n",
       "      <th>V3</th>\n",
       "      <th>V4</th>\n",
       "      <th>V5</th>\n",
       "      <th>V6</th>\n",
       "      <th>V7</th>\n",
       "      <th>V8</th>\n",
       "      <th>V9</th>\n",
       "      <th>...</th>\n",
       "      <th>V21</th>\n",
       "      <th>V22</th>\n",
       "      <th>V23</th>\n",
       "      <th>V24</th>\n",
       "      <th>V25</th>\n",
       "      <th>V26</th>\n",
       "      <th>V27</th>\n",
       "      <th>V28</th>\n",
       "      <th>Amount</th>\n",
       "      <th>Class</th>\n",
       "    </tr>\n",
       "  </thead>\n",
       "  <tbody>\n",
       "    <tr>\n",
       "      <th>0</th>\n",
       "      <td>0.0</td>\n",
       "      <td>-1.359807</td>\n",
       "      <td>-0.072781</td>\n",
       "      <td>2.536347</td>\n",
       "      <td>1.378155</td>\n",
       "      <td>-0.338321</td>\n",
       "      <td>0.462388</td>\n",
       "      <td>0.239599</td>\n",
       "      <td>0.098698</td>\n",
       "      <td>0.363787</td>\n",
       "      <td>...</td>\n",
       "      <td>-0.018307</td>\n",
       "      <td>0.277838</td>\n",
       "      <td>-0.110474</td>\n",
       "      <td>0.066928</td>\n",
       "      <td>0.128539</td>\n",
       "      <td>-0.189115</td>\n",
       "      <td>0.133558</td>\n",
       "      <td>-0.021053</td>\n",
       "      <td>149.62</td>\n",
       "      <td>0</td>\n",
       "    </tr>\n",
       "    <tr>\n",
       "      <th>1</th>\n",
       "      <td>0.0</td>\n",
       "      <td>1.191857</td>\n",
       "      <td>0.266151</td>\n",
       "      <td>0.166480</td>\n",
       "      <td>0.448154</td>\n",
       "      <td>0.060018</td>\n",
       "      <td>-0.082361</td>\n",
       "      <td>-0.078803</td>\n",
       "      <td>0.085102</td>\n",
       "      <td>-0.255425</td>\n",
       "      <td>...</td>\n",
       "      <td>-0.225775</td>\n",
       "      <td>-0.638672</td>\n",
       "      <td>0.101288</td>\n",
       "      <td>-0.339846</td>\n",
       "      <td>0.167170</td>\n",
       "      <td>0.125895</td>\n",
       "      <td>-0.008983</td>\n",
       "      <td>0.014724</td>\n",
       "      <td>2.69</td>\n",
       "      <td>0</td>\n",
       "    </tr>\n",
       "    <tr>\n",
       "      <th>2</th>\n",
       "      <td>1.0</td>\n",
       "      <td>-1.358354</td>\n",
       "      <td>-1.340163</td>\n",
       "      <td>1.773209</td>\n",
       "      <td>0.379780</td>\n",
       "      <td>-0.503198</td>\n",
       "      <td>1.800499</td>\n",
       "      <td>0.791461</td>\n",
       "      <td>0.247676</td>\n",
       "      <td>-1.514654</td>\n",
       "      <td>...</td>\n",
       "      <td>0.247998</td>\n",
       "      <td>0.771679</td>\n",
       "      <td>0.909412</td>\n",
       "      <td>-0.689281</td>\n",
       "      <td>-0.327642</td>\n",
       "      <td>-0.139097</td>\n",
       "      <td>-0.055353</td>\n",
       "      <td>-0.059752</td>\n",
       "      <td>378.66</td>\n",
       "      <td>0</td>\n",
       "    </tr>\n",
       "    <tr>\n",
       "      <th>3</th>\n",
       "      <td>1.0</td>\n",
       "      <td>-0.966272</td>\n",
       "      <td>-0.185226</td>\n",
       "      <td>1.792993</td>\n",
       "      <td>-0.863291</td>\n",
       "      <td>-0.010309</td>\n",
       "      <td>1.247203</td>\n",
       "      <td>0.237609</td>\n",
       "      <td>0.377436</td>\n",
       "      <td>-1.387024</td>\n",
       "      <td>...</td>\n",
       "      <td>-0.108300</td>\n",
       "      <td>0.005274</td>\n",
       "      <td>-0.190321</td>\n",
       "      <td>-1.175575</td>\n",
       "      <td>0.647376</td>\n",
       "      <td>-0.221929</td>\n",
       "      <td>0.062723</td>\n",
       "      <td>0.061458</td>\n",
       "      <td>123.50</td>\n",
       "      <td>0</td>\n",
       "    </tr>\n",
       "    <tr>\n",
       "      <th>4</th>\n",
       "      <td>2.0</td>\n",
       "      <td>-1.158233</td>\n",
       "      <td>0.877737</td>\n",
       "      <td>1.548718</td>\n",
       "      <td>0.403034</td>\n",
       "      <td>-0.407193</td>\n",
       "      <td>0.095921</td>\n",
       "      <td>0.592941</td>\n",
       "      <td>-0.270533</td>\n",
       "      <td>0.817739</td>\n",
       "      <td>...</td>\n",
       "      <td>-0.009431</td>\n",
       "      <td>0.798278</td>\n",
       "      <td>-0.137458</td>\n",
       "      <td>0.141267</td>\n",
       "      <td>-0.206010</td>\n",
       "      <td>0.502292</td>\n",
       "      <td>0.219422</td>\n",
       "      <td>0.215153</td>\n",
       "      <td>69.99</td>\n",
       "      <td>0</td>\n",
       "    </tr>\n",
       "  </tbody>\n",
       "</table>\n",
       "<p>5 rows × 31 columns</p>\n",
       "</div>"
      ],
      "text/plain": [
       "   Time        V1        V2        V3        V4        V5        V6        V7  \\\n",
       "0   0.0 -1.359807 -0.072781  2.536347  1.378155 -0.338321  0.462388  0.239599   \n",
       "1   0.0  1.191857  0.266151  0.166480  0.448154  0.060018 -0.082361 -0.078803   \n",
       "2   1.0 -1.358354 -1.340163  1.773209  0.379780 -0.503198  1.800499  0.791461   \n",
       "3   1.0 -0.966272 -0.185226  1.792993 -0.863291 -0.010309  1.247203  0.237609   \n",
       "4   2.0 -1.158233  0.877737  1.548718  0.403034 -0.407193  0.095921  0.592941   \n",
       "\n",
       "         V8        V9  ...       V21       V22       V23       V24       V25  \\\n",
       "0  0.098698  0.363787  ... -0.018307  0.277838 -0.110474  0.066928  0.128539   \n",
       "1  0.085102 -0.255425  ... -0.225775 -0.638672  0.101288 -0.339846  0.167170   \n",
       "2  0.247676 -1.514654  ...  0.247998  0.771679  0.909412 -0.689281 -0.327642   \n",
       "3  0.377436 -1.387024  ... -0.108300  0.005274 -0.190321 -1.175575  0.647376   \n",
       "4 -0.270533  0.817739  ... -0.009431  0.798278 -0.137458  0.141267 -0.206010   \n",
       "\n",
       "        V26       V27       V28  Amount  Class  \n",
       "0 -0.189115  0.133558 -0.021053  149.62      0  \n",
       "1  0.125895 -0.008983  0.014724    2.69      0  \n",
       "2 -0.139097 -0.055353 -0.059752  378.66      0  \n",
       "3 -0.221929  0.062723  0.061458  123.50      0  \n",
       "4  0.502292  0.219422  0.215153   69.99      0  \n",
       "\n",
       "[5 rows x 31 columns]"
      ]
     },
     "execution_count": 2,
     "metadata": {},
     "output_type": "execute_result"
    }
   ],
   "source": [
    "df = pd.read_csv('/kaggle/input/creditcardfraud/creditcard.csv')\n",
    "df.head()"
   ]
  },
  {
   "cell_type": "code",
   "execution_count": 3,
   "metadata": {
    "execution": {
     "iopub.execute_input": "2021-01-03T05:19:14.514646Z",
     "iopub.status.busy": "2021-01-03T05:19:14.513670Z",
     "iopub.status.idle": "2021-01-03T05:19:14.552006Z",
     "shell.execute_reply": "2021-01-03T05:19:14.551132Z"
    },
    "papermill": {
     "duration": 0.115873,
     "end_time": "2021-01-03T05:19:14.552125",
     "exception": false,
     "start_time": "2021-01-03T05:19:14.436252",
     "status": "completed"
    },
    "tags": []
   },
   "outputs": [
    {
     "name": "stdout",
     "output_type": "stream",
     "text": [
      "<class 'pandas.core.frame.DataFrame'>\n",
      "RangeIndex: 284807 entries, 0 to 284806\n",
      "Data columns (total 31 columns):\n",
      " #   Column  Non-Null Count   Dtype  \n",
      "---  ------  --------------   -----  \n",
      " 0   Time    284807 non-null  float64\n",
      " 1   V1      284807 non-null  float64\n",
      " 2   V2      284807 non-null  float64\n",
      " 3   V3      284807 non-null  float64\n",
      " 4   V4      284807 non-null  float64\n",
      " 5   V5      284807 non-null  float64\n",
      " 6   V6      284807 non-null  float64\n",
      " 7   V7      284807 non-null  float64\n",
      " 8   V8      284807 non-null  float64\n",
      " 9   V9      284807 non-null  float64\n",
      " 10  V10     284807 non-null  float64\n",
      " 11  V11     284807 non-null  float64\n",
      " 12  V12     284807 non-null  float64\n",
      " 13  V13     284807 non-null  float64\n",
      " 14  V14     284807 non-null  float64\n",
      " 15  V15     284807 non-null  float64\n",
      " 16  V16     284807 non-null  float64\n",
      " 17  V17     284807 non-null  float64\n",
      " 18  V18     284807 non-null  float64\n",
      " 19  V19     284807 non-null  float64\n",
      " 20  V20     284807 non-null  float64\n",
      " 21  V21     284807 non-null  float64\n",
      " 22  V22     284807 non-null  float64\n",
      " 23  V23     284807 non-null  float64\n",
      " 24  V24     284807 non-null  float64\n",
      " 25  V25     284807 non-null  float64\n",
      " 26  V26     284807 non-null  float64\n",
      " 27  V27     284807 non-null  float64\n",
      " 28  V28     284807 non-null  float64\n",
      " 29  Amount  284807 non-null  float64\n",
      " 30  Class   284807 non-null  int64  \n",
      "dtypes: float64(30), int64(1)\n",
      "memory usage: 67.4 MB\n"
     ]
    }
   ],
   "source": [
    "#observe the different feature type present in the data\n",
    "df.info()"
   ]
  },
  {
   "cell_type": "markdown",
   "metadata": {
    "papermill": {
     "duration": 0.056607,
     "end_time": "2021-01-03T05:19:14.672828",
     "exception": false,
     "start_time": "2021-01-03T05:19:14.616221",
     "status": "completed"
    },
    "tags": []
   },
   "source": [
    "Here we will observe the distribution of our classes"
   ]
  },
  {
   "cell_type": "code",
   "execution_count": 4,
   "metadata": {
    "execution": {
     "iopub.execute_input": "2021-01-03T05:19:14.793171Z",
     "iopub.status.busy": "2021-01-03T05:19:14.792339Z",
     "iopub.status.idle": "2021-01-03T05:19:14.800426Z",
     "shell.execute_reply": "2021-01-03T05:19:14.800938Z"
    },
    "papermill": {
     "duration": 0.071599,
     "end_time": "2021-01-03T05:19:14.801086",
     "exception": false,
     "start_time": "2021-01-03T05:19:14.729487",
     "status": "completed"
    },
    "tags": []
   },
   "outputs": [],
   "source": [
    "classes=df['Class'].value_counts()\n",
    "normal_share=classes[0]/df['Class'].count()*100\n",
    "fraud_share=classes[1]/df['Class'].count()*100"
   ]
  },
  {
   "cell_type": "code",
   "execution_count": 5,
   "metadata": {
    "execution": {
     "iopub.execute_input": "2021-01-03T05:19:14.923388Z",
     "iopub.status.busy": "2021-01-03T05:19:14.922737Z",
     "iopub.status.idle": "2021-01-03T05:19:15.160726Z",
     "shell.execute_reply": "2021-01-03T05:19:15.161337Z"
    },
    "papermill": {
     "duration": 0.303224,
     "end_time": "2021-01-03T05:19:15.161548",
     "exception": false,
     "start_time": "2021-01-03T05:19:14.858324",
     "status": "completed"
    },
    "scrolled": false,
    "tags": []
   },
   "outputs": [
    {
     "data": {
      "text/plain": [
       "Text(0.5, 1.0, 'Percentage')"
      ]
     },
     "execution_count": 5,
     "metadata": {},
     "output_type": "execute_result"
    },
    {
     "data": {
      "image/png": "[encoded data removed]",
      "text/plain": [
       "<Figure size 432x288 with 2 Axes>"
      ]
     },
     "metadata": {
      "needs_background": "light"
     },
     "output_type": "display_data"
    }
   ],
   "source": [
    "# Create a bar plot for the number and percentage of fraudulent vs non-fraudulent transcations\n",
    "fig, axs = plt.subplots(1,2)\n",
    "axs[0].bar(x=[\"normal_share\", \"fraud_share\"], height=classes)\n",
    "axs[0].set_title(\"Counts\")\n",
    "axs[1].bar(x=[\"normal_share\", \"fraud_share\"], height=[normal_share, fraud_share])\n",
    "axs[1].set_title(\"Percentage\")"
   ]
  },
  {
   "cell_type": "code",
   "execution_count": 6,
   "metadata": {
    "execution": {
     "iopub.execute_input": "2021-01-03T05:19:15.295779Z",
     "iopub.status.busy": "2021-01-03T05:19:15.292062Z",
     "iopub.status.idle": "2021-01-03T05:19:16.134299Z",
     "shell.execute_reply": "2021-01-03T05:19:16.133738Z"
    },
    "papermill": {
     "duration": 0.912656,
     "end_time": "2021-01-03T05:19:16.134422",
     "exception": false,
     "start_time": "2021-01-03T05:19:15.221766",
     "status": "completed"
    },
    "tags": []
   },
   "outputs": [
    {
     "data": {
      "text/plain": [
       "<matplotlib.collections.PathCollection at 0x7f3ad3040cd0>"
      ]
     },
     "execution_count": 6,
     "metadata": {},
     "output_type": "execute_result"
    },
    {
     "data": {
      "image/png": "[encoded data removed]",
      "text/plain": [
       "<Figure size 1080x360 with 1 Axes>"
      ]
     },
     "metadata": {
      "needs_background": "light"
     },
     "output_type": "display_data"
    }
   ],
   "source": [
    "# Create a scatter plot to observe the distribution of classes with time\n",
    "plt.figure(figsize=(15,5))\n",
    "plt.scatter(df.Time, df.Class)\n"
   ]
  },
  {
   "cell_type": "code",
   "execution_count": 7,
   "metadata": {
    "execution": {
     "iopub.execute_input": "2021-01-03T05:19:16.269890Z",
     "iopub.status.busy": "2021-01-03T05:19:16.262528Z",
     "iopub.status.idle": "2021-01-03T05:19:17.398954Z",
     "shell.execute_reply": "2021-01-03T05:19:17.399441Z"
    },
    "papermill": {
     "duration": 1.204365,
     "end_time": "2021-01-03T05:19:17.399558",
     "exception": false,
     "start_time": "2021-01-03T05:19:16.195193",
     "status": "completed"
    },
    "tags": []
   },
   "outputs": [
    {
     "data": {
      "text/plain": [
       "<matplotlib.collections.PathCollection at 0x7f3ad3040bd0>"
      ]
     },
     "execution_count": 7,
     "metadata": {},
     "output_type": "execute_result"
    },
    {
     "data": {
      "image/png": "[encoded data removed]",
      "text/plain": [
       "<Figure size 1080x360 with 1 Axes>"
      ]
     },
     "metadata": {
      "needs_background": "light"
     },
     "output_type": "display_data"
    }
   ],
   "source": [
    "# Create a scatter plot to observe the distribution of classes with Amount\n",
    "plt.figure(figsize=(15,5))\n",
    "plt.scatter(df.Amount, df.Class)"
   ]
  },
  {
   "cell_type": "code",
   "execution_count": 8,
   "metadata": {
    "execution": {
     "iopub.execute_input": "2021-01-03T05:19:17.517724Z",
     "iopub.status.busy": "2021-01-03T05:19:17.516109Z",
     "iopub.status.idle": "2021-01-03T05:19:17.521475Z",
     "shell.execute_reply": "2021-01-03T05:19:17.520962Z"
    },
    "papermill": {
     "duration": 0.078166,
     "end_time": "2021-01-03T05:19:17.521582",
     "exception": false,
     "start_time": "2021-01-03T05:19:17.443416",
     "status": "completed"
    },
    "tags": []
   },
   "outputs": [],
   "source": [
    "# Drop unnecessary columns\n",
    "df=df.drop(\"Time\", axis=1)"
   ]
  },
  {
   "cell_type": "markdown",
   "metadata": {
    "papermill": {
     "duration": 0.061113,
     "end_time": "2021-01-03T05:19:17.643990",
     "exception": false,
     "start_time": "2021-01-03T05:19:17.582877",
     "status": "completed"
    },
    "tags": []
   },
   "source": [
    "### Splitting the data into train & test data"
   ]
  },
  {
   "cell_type": "code",
   "execution_count": 9,
   "metadata": {
    "execution": {
     "iopub.execute_input": "2021-01-03T05:19:17.796191Z",
     "iopub.status.busy": "2021-01-03T05:19:17.795557Z",
     "iopub.status.idle": "2021-01-03T05:19:17.799086Z",
     "shell.execute_reply": "2021-01-03T05:19:17.799626Z"
    },
    "papermill": {
     "duration": 0.094693,
     "end_time": "2021-01-03T05:19:17.799777",
     "exception": false,
     "start_time": "2021-01-03T05:19:17.705084",
     "status": "completed"
    },
    "tags": []
   },
   "outputs": [],
   "source": [
    "y=df.Class #class variable\n",
    "X=df.drop(\"Class\",axis=1)"
   ]
  },
  {
   "cell_type": "code",
   "execution_count": 10,
   "metadata": {
    "execution": {
     "iopub.execute_input": "2021-01-03T05:19:17.927812Z",
     "iopub.status.busy": "2021-01-03T05:19:17.927129Z",
     "iopub.status.idle": "2021-01-03T05:19:18.243990Z",
     "shell.execute_reply": "2021-01-03T05:19:18.243457Z"
    },
    "papermill": {
     "duration": 0.38362,
     "end_time": "2021-01-03T05:19:18.244104",
     "exception": false,
     "start_time": "2021-01-03T05:19:17.860484",
     "status": "completed"
    },
    "tags": []
   },
   "outputs": [],
   "source": [
    "from sklearn import model_selection\n",
    "\n",
    "X_train, X_test, y_train, y_test = model_selection.train_test_split(X, y, stratify=y, random_state=100)"
   ]
  },
  {
   "cell_type": "markdown",
   "metadata": {
    "papermill": {
     "duration": 0.061893,
     "end_time": "2021-01-03T05:19:18.366711",
     "exception": false,
     "start_time": "2021-01-03T05:19:18.304818",
     "status": "completed"
    },
    "tags": []
   },
   "source": [
    "##### Preserve X_test & y_test to evaluate on the test data once you build the model"
   ]
  },
  {
   "cell_type": "code",
   "execution_count": 11,
   "metadata": {
    "execution": {
     "iopub.execute_input": "2021-01-03T05:19:18.496446Z",
     "iopub.status.busy": "2021-01-03T05:19:18.495511Z",
     "iopub.status.idle": "2021-01-03T05:19:18.502736Z",
     "shell.execute_reply": "2021-01-03T05:19:18.501932Z"
    },
    "papermill": {
     "duration": 0.074305,
     "end_time": "2021-01-03T05:19:18.502870",
     "exception": false,
     "start_time": "2021-01-03T05:19:18.428565",
     "status": "completed"
    },
    "tags": []
   },
   "outputs": [
    {
     "name": "stdout",
     "output_type": "stream",
     "text": [
      "492\n",
      "369\n",
      "123\n"
     ]
    }
   ],
   "source": [
    "print(np.sum(y))\n",
    "print(np.sum(y_train))\n",
    "print(np.sum(y_test))"
   ]
  },
  {
   "cell_type": "markdown",
   "metadata": {
    "papermill": {
     "duration": 0.092269,
     "end_time": "2021-01-03T05:19:18.688187",
     "exception": false,
     "start_time": "2021-01-03T05:19:18.595918",
     "status": "completed"
    },
    "tags": []
   },
   "source": [
    "### Plotting the distribution of a variable"
   ]
  },
  {
   "cell_type": "code",
   "execution_count": 12,
   "metadata": {
    "execution": {
     "iopub.execute_input": "2021-01-03T05:19:18.892604Z",
     "iopub.status.busy": "2021-01-03T05:19:18.891456Z",
     "iopub.status.idle": "2021-01-03T05:19:27.542355Z",
     "shell.execute_reply": "2021-01-03T05:19:27.542865Z"
    },
    "papermill": {
     "duration": 8.761938,
     "end_time": "2021-01-03T05:19:27.543012",
     "exception": false,
     "start_time": "2021-01-03T05:19:18.781074",
     "status": "completed"
    },
    "scrolled": true,
    "tags": []
   },
   "outputs": [
    {
     "data": {
      "image/png": "[encoded data removed]",
      "text/plain": [
       "<Figure size 1584x1728 with 30 Axes>"
      ]
     },
     "metadata": {
      "needs_background": "light"
     },
     "output_type": "display_data"
    }
   ],
   "source": [
    "# plot the histogram of a variable from the dataset to see the skewness\n",
    "fig,axs=plt.subplots(6,5)\n",
    "for i in range(6):\n",
    "    for j in range(5):\n",
    "        try:\n",
    "            axs[i,j].hist(X_train[X_train.columns[5*i+j]], bins=100)\n",
    "            axs[i,j].set_title(X_train.columns[5*i+j])\n",
    "        except:\n",
    "            pass\n",
    "fig.set_size_inches(22,24)"
   ]
  },
  {
   "cell_type": "markdown",
   "metadata": {
    "papermill": {
     "duration": 0.064345,
     "end_time": "2021-01-03T05:19:27.672896",
     "exception": false,
     "start_time": "2021-01-03T05:19:27.608551",
     "status": "completed"
    },
    "tags": []
   },
   "source": [
    "`We can see that there are many variables which have very high skewness so lets find the list of variable which have more than 0.5 skew and less than -0.5 skew`"
   ]
  },
  {
   "cell_type": "code",
   "execution_count": 13,
   "metadata": {
    "execution": {
     "iopub.execute_input": "2021-01-03T05:19:27.809346Z",
     "iopub.status.busy": "2021-01-03T05:19:27.808642Z",
     "iopub.status.idle": "2021-01-03T05:19:27.968348Z",
     "shell.execute_reply": "2021-01-03T05:19:27.967065Z"
    },
    "papermill": {
     "duration": 0.230959,
     "end_time": "2021-01-03T05:19:27.968467",
     "exception": false,
     "start_time": "2021-01-03T05:19:27.737508",
     "status": "completed"
    },
    "scrolled": false,
    "tags": []
   },
   "outputs": [
    {
     "name": "stdout",
     "output_type": "stream",
     "text": [
      "V1        -3.318368\n",
      "V2        -4.689218\n",
      "V3        -2.127519\n",
      "V4         0.669216\n",
      "V6         1.211345\n",
      "V7        -0.992447\n",
      "V8        -8.833614\n",
      "V9         0.543861\n",
      "V10        1.106276\n",
      "V12       -2.226230\n",
      "V14       -1.984032\n",
      "V16       -1.086737\n",
      "V17       -3.630422\n",
      "V20       -1.382016\n",
      "V21        3.663074\n",
      "V23       -6.367853\n",
      "V24       -0.543904\n",
      "V26        0.567659\n",
      "V27       -2.969932\n",
      "V28       12.878466\n",
      "Amount    13.265065\n",
      "dtype: float64\n",
      "The total number of features with skewness more than 0.5 or less than -0.5 are  21\n"
     ]
    }
   ],
   "source": [
    "# See the features with more than 0.5 or less that -0.5 skew\n",
    "skew=X_train.skew()\n",
    "# Take absolute value of skew and then get all the columns whose absolute value of skew is more than 0.5\n",
    "skewed=skew[np.abs(skew)>0.5]\n",
    "print(skewed)\n",
    "print(\"The total number of features with skewness more than 0.5 or less than -0.5 are \", len(skewed))"
   ]
  },
  {
   "cell_type": "markdown",
   "metadata": {
    "papermill": {
     "duration": 0.063577,
     "end_time": "2021-01-03T05:19:28.098634",
     "exception": false,
     "start_time": "2021-01-03T05:19:28.035057",
     "status": "completed"
    },
    "tags": []
   },
   "source": [
    "### If there is skewness present in the distribution use:\n",
    "- <b>Power Transformer</b> package present in the <b>preprocessing library provided by sklearn</b> to make distribution more gaussian"
   ]
  },
  {
   "cell_type": "code",
   "execution_count": 14,
   "metadata": {
    "execution": {
     "iopub.execute_input": "2021-01-03T05:19:28.234775Z",
     "iopub.status.busy": "2021-01-03T05:19:28.234188Z",
     "iopub.status.idle": "2021-01-03T05:19:41.641647Z",
     "shell.execute_reply": "2021-01-03T05:19:41.642218Z"
    },
    "papermill": {
     "duration": 13.479323,
     "end_time": "2021-01-03T05:19:41.642370",
     "exception": false,
     "start_time": "2021-01-03T05:19:28.163047",
     "status": "completed"
    },
    "tags": []
   },
   "outputs": [
    {
     "data": {
      "text/plain": [
       "array([[ 1.11660077, -0.24624807, -1.21126569, ..., -0.09942353,\n",
       "        -0.02426017,  1.11998389],\n",
       "       [-0.8007408 ,  0.44011381,  0.62206941, ..., -0.11903135,\n",
       "        -0.02932256, -1.4485192 ],\n",
       "       [ 1.42613473,  0.11607881, -1.26746513, ..., -0.10881017,\n",
       "        -0.23037544, -0.39489373],\n",
       "       ...,\n",
       "       [ 1.34967801, -0.27895312, -1.02259027, ..., -0.28713909,\n",
       "        -0.22180959,  0.59394613],\n",
       "       [-0.60181077,  0.80366937, -0.16233207, ..., -0.58853555,\n",
       "         0.48508476, -0.72555558],\n",
       "       [ 0.46727185, -0.4919582 ,  0.00805671, ..., -0.09422002,\n",
       "         0.10855538,  1.15551083]])"
      ]
     },
     "execution_count": 14,
     "metadata": {},
     "output_type": "execute_result"
    }
   ],
   "source": [
    "# - Apply : preprocessing.PowerTransformer(copy=False) to fit & transform the train & test data\n",
    "power_trans=preprocessing.PowerTransformer(copy=False)\n",
    "power_trans.fit_transform(X_train)\n",
    "power_trans.transform(X_test)"
   ]
  },
  {
   "cell_type": "code",
   "execution_count": 15,
   "metadata": {
    "execution": {
     "iopub.execute_input": "2021-01-03T05:19:41.860081Z",
     "iopub.status.busy": "2021-01-03T05:19:41.853885Z",
     "iopub.status.idle": "2021-01-03T05:19:51.461323Z",
     "shell.execute_reply": "2021-01-03T05:19:51.461794Z"
    },
    "papermill": {
     "duration": 9.72524,
     "end_time": "2021-01-03T05:19:51.461937",
     "exception": false,
     "start_time": "2021-01-03T05:19:41.736697",
     "status": "completed"
    },
    "scrolled": true,
    "tags": []
   },
   "outputs": [
    {
     "data": {
      "image/png": "[encoded data removed]",
      "text/plain": [
       "<Figure size 1584x1728 with 30 Axes>"
      ]
     },
     "metadata": {
      "needs_background": "light"
     },
     "output_type": "display_data"
    }
   ],
   "source": [
    "# plot the histogram of a variable from the dataset again to see the result \n",
    "fig,axs=plt.subplots(6,5)\n",
    "for i in range(6):\n",
    "    for j in range(5):\n",
    "        try:\n",
    "            axs[i,j].hist(X_train[X_train.columns[5*i+j]], bins=100)\n",
    "            axs[i,j].set_title(X_train.columns[5*i+j])\n",
    "        except:\n",
    "            pass\n",
    "fig.set_size_inches(22,24)"
   ]
  },
  {
   "cell_type": "code",
   "execution_count": 16,
   "metadata": {
    "execution": {
     "iopub.execute_input": "2021-01-03T05:19:51.603745Z",
     "iopub.status.busy": "2021-01-03T05:19:51.603076Z",
     "iopub.status.idle": "2021-01-03T05:19:51.718896Z",
     "shell.execute_reply": "2021-01-03T05:19:51.717417Z"
    },
    "papermill": {
     "duration": 0.189488,
     "end_time": "2021-01-03T05:19:51.719106",
     "exception": false,
     "start_time": "2021-01-03T05:19:51.529618",
     "status": "completed"
    },
    "tags": []
   },
   "outputs": [
    {
     "name": "stdout",
     "output_type": "stream",
     "text": [
      "V6    -2.009417\n",
      "V7     0.582581\n",
      "V8     2.387341\n",
      "V10   -1.351216\n",
      "V17   -0.813584\n",
      "V20   -0.529820\n",
      "V21   -2.126231\n",
      "V27    1.240487\n",
      "V28    1.313397\n",
      "dtype: float64\n",
      "The total number of features with skewness more than 0.5 or less than -0.5 are  9\n"
     ]
    }
   ],
   "source": [
    "# Now again See the features with more than 0.5 or less that -0.5 skew after power transform\n",
    "skew=X_train.skew()\n",
    "# Take absolute value of skew and then get all the columns whose absolute value of skew is more than 0.5\n",
    "skewed=skew[np.abs(skew)>0.5]\n",
    "print(skewed)\n",
    "print(\"The total number of features with skewness more than 0.5 or less than -0.5 are \", len(skewed))"
   ]
  },
  {
   "cell_type": "markdown",
   "metadata": {
    "papermill": {
     "duration": 0.068341,
     "end_time": "2021-01-03T05:19:51.859324",
     "exception": false,
     "start_time": "2021-01-03T05:19:51.790983",
     "status": "completed"
    },
    "tags": []
   },
   "source": [
    "## Model Building\n",
    "- Build different models on the imbalanced dataset and see the result"
   ]
  },
  {
   "cell_type": "code",
   "execution_count": 17,
   "metadata": {
    "execution": {
     "iopub.execute_input": "2021-01-03T05:19:52.002944Z",
     "iopub.status.busy": "2021-01-03T05:19:52.002342Z",
     "iopub.status.idle": "2021-01-03T05:19:52.091484Z",
     "shell.execute_reply": "2021-01-03T05:19:52.090894Z"
    },
    "papermill": {
     "duration": 0.163609,
     "end_time": "2021-01-03T05:19:52.091602",
     "exception": false,
     "start_time": "2021-01-03T05:19:51.927993",
     "status": "completed"
    },
    "scrolled": false,
    "tags": []
   },
   "outputs": [],
   "source": [
    "# Logistic Regression\n",
    "from sklearn import linear_model #import the package\n",
    "\n",
    "num_C = [0.5, 0.7, 0.9, 1] #--> list of values\n",
    "cv_num = 5  #--> list of values"
   ]
  },
  {
   "cell_type": "markdown",
   "metadata": {
    "papermill": {
     "duration": 0.068056,
     "end_time": "2021-01-03T05:19:52.228819",
     "exception": false,
     "start_time": "2021-01-03T05:19:52.160763",
     "status": "completed"
    },
    "tags": []
   },
   "source": [
    "#### perfom cross validation on the X_train & y_train to create:\n",
    "- X_train_cv\n",
    "- X_test_cv \n",
    "- y_train_cv\n",
    "- y_test_cv "
   ]
  },
  {
   "cell_type": "code",
   "execution_count": 18,
   "metadata": {
    "execution": {
     "iopub.execute_input": "2021-01-03T05:19:52.381593Z",
     "iopub.status.busy": "2021-01-03T05:19:52.376598Z",
     "iopub.status.idle": "2021-01-03T05:20:01.570842Z",
     "shell.execute_reply": "2021-01-03T05:20:01.570161Z"
    },
    "papermill": {
     "duration": 9.272496,
     "end_time": "2021-01-03T05:20:01.570959",
     "exception": false,
     "start_time": "2021-01-03T05:19:52.298463",
     "status": "completed"
    },
    "tags": []
   },
   "outputs": [
    {
     "name": "stdout",
     "output_type": "stream",
     "text": [
      "The average accurcay score is 0.9992649984785\n",
      "The average recall score is 0.6719733432062198\n",
      "The average precision score is 0.8747559313292073\n",
      "The average ROC AUC score is 0.9786988309793502\n"
     ]
    }
   ],
   "source": [
    "#perform cross validation\n",
    "skf=model_selection.StratifiedKFold(n_splits=5, shuffle=True, random_state=100)\n",
    "accuracy_scores =[]\n",
    "recall_scores = []\n",
    "precission_scores = []\n",
    "AUC_ROC=[]\n",
    "logistic_model=linear_model.LogisticRegression( random_state=100)\n",
    "for train_index, test_index in skf.split(X_train,y_train):\n",
    "    X_train_cv, X_test_cv = X_train.iloc[train_index], X_train.iloc[test_index]\n",
    "    y_train_cv, y_test_cv = y_train.iloc[train_index], y_train.iloc[test_index]\n",
    "    logistic_model.fit(X_train_cv, y_train_cv)\n",
    "    predictions = logistic_model.predict(X_test_cv)\n",
    "    pred_proba= logistic_model.predict_proba(X_test_cv)[:,1]\n",
    "    accuracy_scores.append(metrics.accuracy_score(y_test_cv, predictions))\n",
    "    recall_scores.append(metrics.recall_score(y_test_cv, predictions))\n",
    "    precission_scores.append(metrics.precision_score(y_test_cv, predictions))\n",
    "    AUC_ROC.append(metrics.roc_auc_score(y_test_cv,pred_proba))\n",
    "print(\"The average accurcay score is\", np.mean(accuracy_scores))\n",
    "print(\"The average recall score is\", np.mean(recall_scores))\n",
    "print(\"The average precision score is\", np.mean(precission_scores))\n",
    "print(\"The average ROC AUC score is\", np.mean(AUC_ROC))"
   ]
  },
  {
   "cell_type": "markdown",
   "metadata": {
    "papermill": {
     "duration": 0.070891,
     "end_time": "2021-01-03T05:20:01.712830",
     "exception": false,
     "start_time": "2021-01-03T05:20:01.641939",
     "status": "completed"
    },
    "tags": []
   },
   "source": [
    "### Logistic Regression without oversampling"
   ]
  },
  {
   "cell_type": "code",
   "execution_count": 19,
   "metadata": {
    "execution": {
     "iopub.execute_input": "2021-01-03T05:20:01.868965Z",
     "iopub.status.busy": "2021-01-03T05:20:01.863315Z",
     "iopub.status.idle": "2021-01-03T05:20:50.043651Z",
     "shell.execute_reply": "2021-01-03T05:20:50.044418Z"
    },
    "papermill": {
     "duration": 48.260653,
     "end_time": "2021-01-03T05:20:50.044595",
     "exception": false,
     "start_time": "2021-01-03T05:20:01.783942",
     "status": "completed"
    },
    "tags": []
   },
   "outputs": [
    {
     "name": "stdout",
     "output_type": "stream",
     "text": [
      "Time taken to run this is:  0.8  minutes\n"
     ]
    }
   ],
   "source": [
    "start=time.time()\n",
    "#perform hyperparameter tuning\n",
    "solvers = ['newton-cg', 'lbfgs', 'liblinear']\n",
    "penalty = ['l2']\n",
    "c_values = [100, 10, 1.0, 0.1, 0.01]\n",
    "skf=model_selection.StratifiedKFold(n_splits=5, shuffle=True, random_state=100)\n",
    "logistic_model=linear_model.LogisticRegression(random_state=100, max_iter=1000)\n",
    "# define grid search\n",
    "params = dict(solver=solvers,penalty=penalty,C=c_values)\n",
    "# The best evaluation metric to evealuate the strength of a model is auc roc score\n",
    "grid_search = model_selection.GridSearchCV(estimator=logistic_model, param_grid=params, n_jobs=-1, cv=skf, scoring='roc_auc', error_score=0)\n",
    "grid_result = grid_search.fit(X_train, y_train)\n",
    "end=time.time()\n",
    "print(\"Time taken to run this is: \", round((end-start)/60, 2), \" minutes\")"
   ]
  },
  {
   "cell_type": "code",
   "execution_count": 20,
   "metadata": {
    "execution": {
     "iopub.execute_input": "2021-01-03T05:20:50.257186Z",
     "iopub.status.busy": "2021-01-03T05:20:50.256503Z",
     "iopub.status.idle": "2021-01-03T05:20:50.264842Z",
     "shell.execute_reply": "2021-01-03T05:20:50.265405Z"
    },
    "papermill": {
     "duration": 0.117559,
     "end_time": "2021-01-03T05:20:50.265557",
     "exception": false,
     "start_time": "2021-01-03T05:20:50.147998",
     "status": "completed"
    },
    "tags": []
   },
   "outputs": [
    {
     "data": {
      "text/plain": [
       "LogisticRegression(C=0.01, max_iter=1000, random_state=100, solver='liblinear')"
      ]
     },
     "execution_count": 20,
     "metadata": {},
     "output_type": "execute_result"
    }
   ],
   "source": [
    "# See the best estimator\n",
    "grid_result.best_estimator_"
   ]
  },
  {
   "cell_type": "code",
   "execution_count": 21,
   "metadata": {
    "execution": {
     "iopub.execute_input": "2021-01-03T05:20:50.415054Z",
     "iopub.status.busy": "2021-01-03T05:20:50.414019Z",
     "iopub.status.idle": "2021-01-03T05:20:50.418621Z",
     "shell.execute_reply": "2021-01-03T05:20:50.419096Z"
    },
    "papermill": {
     "duration": 0.081108,
     "end_time": "2021-01-03T05:20:50.419280",
     "exception": false,
     "start_time": "2021-01-03T05:20:50.338172",
     "status": "completed"
    },
    "tags": []
   },
   "outputs": [
    {
     "data": {
      "text/plain": [
       "0.9822518352591538"
      ]
     },
     "execution_count": 21,
     "metadata": {},
     "output_type": "execute_result"
    }
   ],
   "source": [
    "# See best score\n",
    "grid_result.best_score_"
   ]
  },
  {
   "cell_type": "code",
   "execution_count": 22,
   "metadata": {
    "execution": {
     "iopub.execute_input": "2021-01-03T05:20:50.565445Z",
     "iopub.status.busy": "2021-01-03T05:20:50.564658Z",
     "iopub.status.idle": "2021-01-03T05:20:50.569018Z",
     "shell.execute_reply": "2021-01-03T05:20:50.567954Z"
    },
    "papermill": {
     "duration": 0.079837,
     "end_time": "2021-01-03T05:20:50.569124",
     "exception": false,
     "start_time": "2021-01-03T05:20:50.489287",
     "status": "completed"
    },
    "tags": []
   },
   "outputs": [
    {
     "name": "stdout",
     "output_type": "stream",
     "text": [
      "{'C': 0.01, 'penalty': 'l2', 'solver': 'liblinear'}\n"
     ]
    }
   ],
   "source": [
    "#print the optimum value of hyperparameters\n",
    "print(grid_result.best_params_)"
   ]
  },
  {
   "cell_type": "code",
   "execution_count": 23,
   "metadata": {
    "execution": {
     "iopub.execute_input": "2021-01-03T05:20:50.722780Z",
     "iopub.status.busy": "2021-01-03T05:20:50.719841Z",
     "iopub.status.idle": "2021-01-03T05:20:53.047412Z",
     "shell.execute_reply": "2021-01-03T05:20:53.046847Z"
    },
    "papermill": {
     "duration": 2.406818,
     "end_time": "2021-01-03T05:20:53.047525",
     "exception": false,
     "start_time": "2021-01-03T05:20:50.640707",
     "status": "completed"
    },
    "tags": []
   },
   "outputs": [
    {
     "data": {
      "text/plain": [
       "Text(0.5, 1.0, 'ROC Curve')"
      ]
     },
     "execution_count": 23,
     "metadata": {},
     "output_type": "execute_result"
    },
    {
     "data": {
      "image/png": "[encoded data removed]",
      "text/plain": [
       "<Figure size 432x288 with 1 Axes>"
      ]
     },
     "metadata": {
      "needs_background": "light"
     },
     "output_type": "display_data"
    }
   ],
   "source": [
    "# Now train the model using these optimum hyperparametrs\n",
    "logistic_model=linear_model.LogisticRegression(penalty='l2', C=0.01, random_state=100, solver='liblinear',max_iter=1000)\n",
    "logistic_model.fit(X_train,y_train)\n",
    "# Find the probability of the target to be 1\n",
    "predict_proba= logistic_model.predict_proba(X_test)[:,1]\n",
    "fpr, tpr, thresholds = metrics.roc_curve(y_test, predict_proba)\n",
    "# Plot the ROC curve to see which value of tpr and FPR will be a good option to choose\n",
    "plt.plot(fpr, tpr)\n",
    "plt.xlabel(\"FPR\")\n",
    "plt.ylabel(\"TPR\")\n",
    "plt.title(\"ROC Curve\")"
   ]
  },
  {
   "cell_type": "markdown",
   "metadata": {
    "papermill": {
     "duration": 0.072002,
     "end_time": "2021-01-03T05:20:53.192519",
     "exception": false,
     "start_time": "2021-01-03T05:20:53.120517",
     "status": "completed"
    },
    "tags": []
   },
   "source": [
    "From the plot we can see that 0.85 will be a good value for TPR"
   ]
  },
  {
   "cell_type": "code",
   "execution_count": 24,
   "metadata": {
    "execution": {
     "iopub.execute_input": "2021-01-03T05:20:53.359108Z",
     "iopub.status.busy": "2021-01-03T05:20:53.345000Z",
     "iopub.status.idle": "2021-01-03T05:20:53.516078Z",
     "shell.execute_reply": "2021-01-03T05:20:53.515303Z"
    },
    "papermill": {
     "duration": 0.250313,
     "end_time": "2021-01-03T05:20:53.516215",
     "exception": false,
     "start_time": "2021-01-03T05:20:53.265902",
     "status": "completed"
    },
    "tags": []
   },
   "outputs": [
    {
     "data": {
      "text/plain": [
       "Text(0.5, 1.0, 'TPR vs Thresholds')"
      ]
     },
     "execution_count": 24,
     "metadata": {},
     "output_type": "execute_result"
    },
    {
     "data": {
      "image/png": "[encoded data removed]",
      "text/plain": [
       "<Figure size 432x288 with 1 Axes>"
      ]
     },
     "metadata": {
      "needs_background": "light"
     },
     "output_type": "display_data"
    }
   ],
   "source": [
    "# Plot graph between tpr and thresholds to choose the threshold\n",
    "plt.plot(thresholds, tpr)\n",
    "plt.xlabel(\"Thresholds\")\n",
    "plt.ylabel(\"TPR\")\n",
    "plt.title(\"TPR vs Thresholds\")"
   ]
  },
  {
   "cell_type": "markdown",
   "metadata": {
    "papermill": {
     "duration": 0.073814,
     "end_time": "2021-01-03T05:20:53.682983",
     "exception": false,
     "start_time": "2021-01-03T05:20:53.609169",
     "status": "completed"
    },
    "tags": []
   },
   "source": [
    "From the above graph, the value of threshold correspond to TPR =0.85 should be around 0.06 "
   ]
  },
  {
   "cell_type": "code",
   "execution_count": 25,
   "metadata": {
    "execution": {
     "iopub.execute_input": "2021-01-03T05:20:53.837671Z",
     "iopub.status.busy": "2021-01-03T05:20:53.836903Z",
     "iopub.status.idle": "2021-01-03T05:20:53.851927Z",
     "shell.execute_reply": "2021-01-03T05:20:53.851293Z"
    },
    "papermill": {
     "duration": 0.094938,
     "end_time": "2021-01-03T05:20:53.852034",
     "exception": false,
     "start_time": "2021-01-03T05:20:53.757096",
     "status": "completed"
    },
    "tags": []
   },
   "outputs": [],
   "source": [
    "# By setting the threshold to be 0.06 the classes of the target will be\n",
    "# Prediction for train data\n",
    "y_train_pred=logistic_model.predict_proba(X_train)[:,1]>0.07\n",
    "# Prediction for test data\n",
    "y_pred=predict_proba>0.07"
   ]
  },
  {
   "cell_type": "code",
   "execution_count": 26,
   "metadata": {
    "execution": {
     "iopub.execute_input": "2021-01-03T05:20:54.006823Z",
     "iopub.status.busy": "2021-01-03T05:20:54.006022Z",
     "iopub.status.idle": "2021-01-03T05:20:54.190100Z",
     "shell.execute_reply": "2021-01-03T05:20:54.189126Z"
    },
    "papermill": {
     "duration": 0.264526,
     "end_time": "2021-01-03T05:20:54.190237",
     "exception": false,
     "start_time": "2021-01-03T05:20:53.925711",
     "status": "completed"
    },
    "tags": []
   },
   "outputs": [
    {
     "name": "stdout",
     "output_type": "stream",
     "text": [
      "The recall score for the train data is:  0.8211382113821138\n",
      "The precision score for the train data is:  0.8370165745856354\n",
      "The recall score for the test data is:  0.7886178861788617\n",
      "The precision score for the test data is:  0.776\n"
     ]
    }
   ],
   "source": [
    "print(\"The recall score for the train data is: \", metrics.recall_score(y_train, y_train_pred))\n",
    "print(\"The precision score for the train data is: \", metrics.precision_score(y_train, y_train_pred))\n",
    "print(\"The recall score for the test data is: \", metrics.recall_score(y_test, y_pred))\n",
    "print(\"The precision score for the test data is: \", metrics.precision_score(y_test, y_pred))"
   ]
  },
  {
   "cell_type": "markdown",
   "metadata": {
    "papermill": {
     "duration": 0.076247,
     "end_time": "2021-01-03T05:20:54.342556",
     "exception": false,
     "start_time": "2021-01-03T05:20:54.266309",
     "status": "completed"
    },
    "tags": []
   },
   "source": [
    "### Similarly explore other algorithms by building models like:\n",
    "- KNN\n",
    "- SVM\n",
    "- Decision Tree\n",
    "- Random Forest\n",
    "- XGBoost"
   ]
  },
  {
   "cell_type": "markdown",
   "metadata": {
    "papermill": {
     "duration": 0.074598,
     "end_time": "2021-01-03T05:20:54.491437",
     "exception": false,
     "start_time": "2021-01-03T05:20:54.416839",
     "status": "completed"
    },
    "tags": []
   },
   "source": [
    "#### Proceed with the model which shows the best result \n",
    "- Apply the best hyperparameter on the model\n",
    "- Predict on the test dataset"
   ]
  },
  {
   "cell_type": "code",
   "execution_count": 27,
   "metadata": {
    "execution": {
     "iopub.execute_input": "2021-01-03T05:20:54.645019Z",
     "iopub.status.busy": "2021-01-03T05:20:54.644115Z",
     "iopub.status.idle": "2021-01-03T05:20:54.650244Z",
     "shell.execute_reply": "2021-01-03T05:20:54.651652Z"
    },
    "papermill": {
     "duration": 0.086303,
     "end_time": "2021-01-03T05:20:54.651818",
     "exception": false,
     "start_time": "2021-01-03T05:20:54.565515",
     "status": "completed"
    },
    "tags": []
   },
   "outputs": [
    {
     "ename": "SyntaxError",
     "evalue": "Missing parentheses in call to 'print'. Did you mean print(--> #print the evaluation score on the X_test by choosing the best evaluation metric)? (<ipython-input-27-03f3db1ef6b7>, line 3)",
     "output_type": "error",
     "traceback": [
      "\u001b[0;36m  File \u001b[0;32m\"<ipython-input-27-03f3db1ef6b7>\"\u001b[0;36m, line \u001b[0;32m3\u001b[0m\n\u001b[0;31m    print --> #print the evaluation score on the X_test by choosing the best evaluation metric\u001b[0m\n\u001b[0m            ^\u001b[0m\n\u001b[0;31mSyntaxError\u001b[0m\u001b[0;31m:\u001b[0m Missing parentheses in call to 'print'. Did you mean print(--> #print the evaluation score on the X_test by choosing the best evaluation metric)?\n"
     ]
    }
   ],
   "source": [
    "clf = ___  #initialise the model with optimum hyperparameters\n",
    "clf.fit(X_train, y_train)\n",
    "print --> #print the evaluation score on the X_test by choosing the best evaluation metric"
   ]
  },
  {
   "cell_type": "markdown",
   "metadata": {
    "papermill": {
     "duration": 0.091738,
     "end_time": "2021-01-03T05:20:54.836814",
     "exception": false,
     "start_time": "2021-01-03T05:20:54.745076",
     "status": "completed"
    },
    "tags": []
   },
   "source": [
    "### Print the important features of the best model to understand the dataset\n",
    "- This will not give much explanation on the already transformed dataset\n",
    "- But it will help us in understanding if the dataset is not PCA transformed"
   ]
  },
  {
   "cell_type": "code",
   "execution_count": 28,
   "metadata": {
    "execution": {
     "iopub.execute_input": "2021-01-03T05:20:55.001092Z",
     "iopub.status.busy": "2021-01-03T05:20:54.996101Z",
     "iopub.status.idle": "2021-01-03T05:20:55.117204Z",
     "shell.execute_reply": "2021-01-03T05:20:55.116647Z"
    },
    "papermill": {
     "duration": 0.20497,
     "end_time": "2021-01-03T05:20:55.117317",
     "exception": false,
     "start_time": "2021-01-03T05:20:54.912347",
     "status": "completed"
    },
    "tags": []
   },
   "outputs": [
    {
     "ename": "NameError",
     "evalue": "name 'clf' is not defined",
     "output_type": "error",
     "traceback": [
      "\u001b[0;31m---------------------------------------------------------------------------\u001b[0m",
      "\u001b[0;31mNameError\u001b[0m                                 Traceback (most recent call last)",
      "\u001b[0;32m<ipython-input-28-d2a524036259>\u001b[0m in \u001b[0;36m<module>\u001b[0;34m\u001b[0m\n\u001b[1;32m      1\u001b[0m \u001b[0mvar_imp\u001b[0m \u001b[0;34m=\u001b[0m \u001b[0;34m[\u001b[0m\u001b[0;34m]\u001b[0m\u001b[0;34m\u001b[0m\u001b[0;34m\u001b[0m\u001b[0m\n\u001b[0;32m----> 2\u001b[0;31m \u001b[0;32mfor\u001b[0m \u001b[0mi\u001b[0m \u001b[0;32min\u001b[0m \u001b[0mclf\u001b[0m\u001b[0;34m.\u001b[0m\u001b[0mfeature_importances_\u001b[0m\u001b[0;34m:\u001b[0m\u001b[0;34m\u001b[0m\u001b[0;34m\u001b[0m\u001b[0m\n\u001b[0m\u001b[1;32m      3\u001b[0m     \u001b[0mvar_imp\u001b[0m\u001b[0;34m.\u001b[0m\u001b[0mappend\u001b[0m\u001b[0;34m(\u001b[0m\u001b[0mi\u001b[0m\u001b[0;34m)\u001b[0m\u001b[0;34m\u001b[0m\u001b[0;34m\u001b[0m\u001b[0m\n\u001b[1;32m      4\u001b[0m \u001b[0mprint\u001b[0m\u001b[0;34m(\u001b[0m\u001b[0;34m'Top var ='\u001b[0m\u001b[0;34m,\u001b[0m \u001b[0mvar_imp\u001b[0m\u001b[0;34m.\u001b[0m\u001b[0mindex\u001b[0m\u001b[0;34m(\u001b[0m\u001b[0mnp\u001b[0m\u001b[0;34m.\u001b[0m\u001b[0msort\u001b[0m\u001b[0;34m(\u001b[0m\u001b[0mclf\u001b[0m\u001b[0;34m.\u001b[0m\u001b[0mfeature_importances_\u001b[0m\u001b[0;34m)\u001b[0m\u001b[0;34m[\u001b[0m\u001b[0;34m-\u001b[0m\u001b[0;36m1\u001b[0m\u001b[0;34m]\u001b[0m\u001b[0;34m)\u001b[0m\u001b[0;34m+\u001b[0m\u001b[0;36m1\u001b[0m\u001b[0;34m)\u001b[0m\u001b[0;34m\u001b[0m\u001b[0;34m\u001b[0m\u001b[0m\n\u001b[1;32m      5\u001b[0m \u001b[0mprint\u001b[0m\u001b[0;34m(\u001b[0m\u001b[0;34m'2nd Top var ='\u001b[0m\u001b[0;34m,\u001b[0m \u001b[0mvar_imp\u001b[0m\u001b[0;34m.\u001b[0m\u001b[0mindex\u001b[0m\u001b[0;34m(\u001b[0m\u001b[0mnp\u001b[0m\u001b[0;34m.\u001b[0m\u001b[0msort\u001b[0m\u001b[0;34m(\u001b[0m\u001b[0mclf\u001b[0m\u001b[0;34m.\u001b[0m\u001b[0mfeature_importances_\u001b[0m\u001b[0;34m)\u001b[0m\u001b[0;34m[\u001b[0m\u001b[0;34m-\u001b[0m\u001b[0;36m2\u001b[0m\u001b[0;34m]\u001b[0m\u001b[0;34m)\u001b[0m\u001b[0;34m+\u001b[0m\u001b[0;36m1\u001b[0m\u001b[0;34m)\u001b[0m\u001b[0;34m\u001b[0m\u001b[0;34m\u001b[0m\u001b[0m\n",
      "\u001b[0;31mNameError\u001b[0m: name 'clf' is not defined"
     ]
    }
   ],
   "source": [
    "var_imp = []\n",
    "for i in clf.feature_importances_:\n",
    "    var_imp.append(i)\n",
    "print('Top var =', var_imp.index(np.sort(clf.feature_importances_)[-1])+1)\n",
    "print('2nd Top var =', var_imp.index(np.sort(clf.feature_importances_)[-2])+1)\n",
    "print('3rd Top var =', var_imp.index(np.sort(clf.feature_importances_)[-3])+1)\n",
    "\n",
    "# Variable on Index-16 and Index-13 seems to be the top 2 variables\n",
    "top_var_index = var_imp.index(np.sort(clf.feature_importances_)[-1])\n",
    "second_top_var_index = var_imp.index(np.sort(clf.feature_importances_)[-2])\n",
    "\n",
    "X_train_1 = X_train.to_numpy()[np.where(y_train==1.0)]\n",
    "X_train_0 = X_train.to_numpy()[np.where(y_train==0.0)]\n",
    "\n",
    "np.random.shuffle(X_train_0)\n",
    "\n",
    "import matplotlib.pyplot as plt\n",
    "%matplotlib inline\n",
    "plt.rcParams['figure.figsize'] = [20, 20]\n",
    "\n",
    "plt.scatter(X_train_1[:, top_var_index], X_train_1[:, second_top_var_index], label='Actual Class-1 Examples')\n",
    "plt.scatter(X_train_0[:X_train_1.shape[0], top_var_index], X_train_0[:X_train_1.shape[0], second_top_var_index],\n",
    "            label='Actual Class-0 Examples')\n",
    "plt.legend()"
   ]
  },
  {
   "cell_type": "markdown",
   "metadata": {
    "papermill": {
     "duration": 0.075608,
     "end_time": "2021-01-03T05:20:55.268970",
     "exception": false,
     "start_time": "2021-01-03T05:20:55.193362",
     "status": "completed"
    },
    "tags": []
   },
   "source": [
    "## Model building with balancing Classes\n",
    "\n",
    "##### Perform class balancing with :\n",
    "- Random Oversampling\n",
    "- SMOTE\n",
    "- ADASYN"
   ]
  },
  {
   "cell_type": "markdown",
   "metadata": {
    "papermill": {
     "duration": 0.075825,
     "end_time": "2021-01-03T05:20:55.421082",
     "exception": false,
     "start_time": "2021-01-03T05:20:55.345257",
     "status": "completed"
    },
    "tags": []
   },
   "source": [
    "## Model Building\n",
    "- Build different models on the balanced dataset and see the result"
   ]
  },
  {
   "cell_type": "markdown",
   "metadata": {
    "papermill": {
     "duration": 0.07501,
     "end_time": "2021-01-03T05:20:55.571721",
     "exception": false,
     "start_time": "2021-01-03T05:20:55.496711",
     "status": "completed"
    },
    "tags": []
   },
   "source": [
    "### Random Oversampling"
   ]
  },
  {
   "cell_type": "code",
   "execution_count": 29,
   "metadata": {
    "execution": {
     "iopub.execute_input": "2021-01-03T05:20:55.727619Z",
     "iopub.status.busy": "2021-01-03T05:20:55.726998Z",
     "iopub.status.idle": "2021-01-03T05:20:55.982565Z",
     "shell.execute_reply": "2021-01-03T05:20:55.981873Z"
    },
    "papermill": {
     "duration": 0.335926,
     "end_time": "2021-01-03T05:20:55.982678",
     "exception": false,
     "start_time": "2021-01-03T05:20:55.646752",
     "status": "completed"
    },
    "scrolled": true,
    "tags": []
   },
   "outputs": [],
   "source": [
    "from imblearn import over_sampling #- import the packages"
   ]
  },
  {
   "cell_type": "code",
   "execution_count": 30,
   "metadata": {
    "execution": {
     "iopub.execute_input": "2021-01-03T05:20:56.140879Z",
     "iopub.status.busy": "2021-01-03T05:20:56.140220Z",
     "iopub.status.idle": "2021-01-03T05:20:56.540609Z",
     "shell.execute_reply": "2021-01-03T05:20:56.540045Z"
    },
    "papermill": {
     "duration": 0.482313,
     "end_time": "2021-01-03T05:20:56.540731",
     "exception": false,
     "start_time": "2021-01-03T05:20:56.058418",
     "status": "completed"
    },
    "tags": []
   },
   "outputs": [],
   "source": [
    "#balance classes on X_train_cv & y_train_cv using Random Oversampling\n",
    "ro = over_sampling.RandomOverSampler(random_state=100)\n",
    "X_train_ro, y_train_ro = ro.fit_resample(X_train, y_train)"
   ]
  },
  {
   "cell_type": "code",
   "execution_count": 31,
   "metadata": {
    "execution": {
     "iopub.execute_input": "2021-01-03T05:20:56.702749Z",
     "iopub.status.busy": "2021-01-03T05:20:56.702057Z",
     "iopub.status.idle": "2021-01-03T05:20:56.967839Z",
     "shell.execute_reply": "2021-01-03T05:20:56.967121Z"
    },
    "papermill": {
     "duration": 0.351535,
     "end_time": "2021-01-03T05:20:56.967978",
     "exception": false,
     "start_time": "2021-01-03T05:20:56.616443",
     "status": "completed"
    },
    "tags": []
   },
   "outputs": [
    {
     "data": {
      "text/plain": [
       "Text(0.5, 1.0, 'Percentage')"
      ]
     },
     "execution_count": 31,
     "metadata": {},
     "output_type": "execute_result"
    },
    {
     "data": {
      "image/png": "[encoded data removed]",
      "text/plain": [
       "<Figure size 432x288 with 2 Axes>"
      ]
     },
     "metadata": {
      "needs_background": "light"
     },
     "output_type": "display_data"
    }
   ],
   "source": [
    "# Now lets see the class distribution of oversampled data\n",
    "classes=y_train_ro.value_counts()\n",
    "normal_share=classes[0]/len(y_train_ro)*100\n",
    "fraud_share=classes[1]/len(y_train_ro)*100\n",
    "# Create a bar plot for the number and percentage of fraudulent vs non-fraudulent transcations\n",
    "fig, axs = plt.subplots(1,2)\n",
    "axs[0].bar(x=[\"normal_share\", \"fraud_share\"], height=classes)\n",
    "axs[0].set_title(\"Counts\")\n",
    "axs[1].bar(x=[\"normal_share\", \"fraud_share\"], height=[normal_share, fraud_share])\n",
    "axs[1].set_title(\"Percentage\")"
   ]
  },
  {
   "cell_type": "markdown",
   "metadata": {
    "papermill": {
     "duration": 0.078392,
     "end_time": "2021-01-03T05:20:57.125394",
     "exception": false,
     "start_time": "2021-01-03T05:20:57.047002",
     "status": "completed"
    },
    "tags": []
   },
   "source": [
    "So our data is oversampled properly."
   ]
  },
  {
   "cell_type": "code",
   "execution_count": 32,
   "metadata": {
    "execution": {
     "iopub.execute_input": "2021-01-03T05:20:57.296497Z",
     "iopub.status.busy": "2021-01-03T05:20:57.295804Z",
     "iopub.status.idle": "2021-01-03T05:22:29.308441Z",
     "shell.execute_reply": "2021-01-03T05:22:29.309182Z"
    },
    "papermill": {
     "duration": 92.105428,
     "end_time": "2021-01-03T05:22:29.309353",
     "exception": false,
     "start_time": "2021-01-03T05:20:57.203925",
     "status": "completed"
    },
    "tags": []
   },
   "outputs": [
    {
     "name": "stdout",
     "output_type": "stream",
     "text": [
      "Time taken to run this is:  1.53  minutes\n"
     ]
    }
   ],
   "source": [
    "start=time.time()\n",
    "#perform hyperparameter tuning\n",
    "solvers = ['newton-cg', 'lbfgs', 'liblinear']\n",
    "penalty = ['l2']\n",
    "c_values = [ 100, 10, 0.1, 0.01]\n",
    "skf=model_selection.StratifiedKFold(n_splits=5, shuffle=True, random_state=100)\n",
    "logistic_model=linear_model.LogisticRegression(random_state=100, max_iter=1000)\n",
    "# define grid search\n",
    "params = dict(solver=solvers,penalty=penalty,C=c_values)\n",
    "# The best evaluation metric to evealuate the strength of a model is auc roc score\n",
    "grid_search = model_selection.GridSearchCV(estimator=logistic_model, param_grid=params, n_jobs=-1, cv=skf, scoring='roc_auc', error_score=0)\n",
    "grid_result = grid_search.fit(X_train_ro, y_train_ro)\n",
    "end=time.time()\n",
    "print(\"Time taken to run this is: \", round((end-start)/60, 2), \" minutes\")"
   ]
  },
  {
   "cell_type": "code",
   "execution_count": 33,
   "metadata": {
    "execution": {
     "iopub.execute_input": "2021-01-03T05:22:29.470447Z",
     "iopub.status.busy": "2021-01-03T05:22:29.469603Z",
     "iopub.status.idle": "2021-01-03T05:22:29.474485Z",
     "shell.execute_reply": "2021-01-03T05:22:29.473961Z"
    },
    "papermill": {
     "duration": 0.087649,
     "end_time": "2021-01-03T05:22:29.474594",
     "exception": false,
     "start_time": "2021-01-03T05:22:29.386945",
     "status": "completed"
    },
    "tags": []
   },
   "outputs": [
    {
     "data": {
      "text/plain": [
       "LogisticRegression(C=100, max_iter=1000, random_state=100, solver='newton-cg')"
      ]
     },
     "execution_count": 33,
     "metadata": {},
     "output_type": "execute_result"
    }
   ],
   "source": [
    "# See the best estimator\n",
    "grid_result.best_estimator_"
   ]
  },
  {
   "cell_type": "code",
   "execution_count": 34,
   "metadata": {
    "execution": {
     "iopub.execute_input": "2021-01-03T05:22:29.641421Z",
     "iopub.status.busy": "2021-01-03T05:22:29.640692Z",
     "iopub.status.idle": "2021-01-03T05:22:29.646375Z",
     "shell.execute_reply": "2021-01-03T05:22:29.645839Z"
    },
    "papermill": {
     "duration": 0.090832,
     "end_time": "2021-01-03T05:22:29.646483",
     "exception": false,
     "start_time": "2021-01-03T05:22:29.555651",
     "status": "completed"
    },
    "tags": []
   },
   "outputs": [
    {
     "data": {
      "text/plain": [
       "0.9889660746925777"
      ]
     },
     "execution_count": 34,
     "metadata": {},
     "output_type": "execute_result"
    }
   ],
   "source": [
    "# See best score\n",
    "grid_result.best_score_"
   ]
  },
  {
   "cell_type": "code",
   "execution_count": 35,
   "metadata": {
    "execution": {
     "iopub.execute_input": "2021-01-03T05:22:29.811332Z",
     "iopub.status.busy": "2021-01-03T05:22:29.810420Z",
     "iopub.status.idle": "2021-01-03T05:22:29.815128Z",
     "shell.execute_reply": "2021-01-03T05:22:29.814501Z"
    },
    "papermill": {
     "duration": 0.089387,
     "end_time": "2021-01-03T05:22:29.815266",
     "exception": false,
     "start_time": "2021-01-03T05:22:29.725879",
     "status": "completed"
    },
    "tags": []
   },
   "outputs": [
    {
     "name": "stdout",
     "output_type": "stream",
     "text": [
      "{'C': 100, 'penalty': 'l2', 'solver': 'newton-cg'}\n"
     ]
    }
   ],
   "source": [
    "#print the optimum value of hyperparameters\n",
    "print(grid_result.best_params_)"
   ]
  },
  {
   "cell_type": "code",
   "execution_count": 36,
   "metadata": {
    "execution": {
     "iopub.execute_input": "2021-01-03T05:22:29.984631Z",
     "iopub.status.busy": "2021-01-03T05:22:29.983773Z",
     "iopub.status.idle": "2021-01-03T05:22:36.622984Z",
     "shell.execute_reply": "2021-01-03T05:22:36.622376Z"
    },
    "papermill": {
     "duration": 6.727489,
     "end_time": "2021-01-03T05:22:36.623087",
     "exception": false,
     "start_time": "2021-01-03T05:22:29.895598",
     "status": "completed"
    },
    "tags": []
   },
   "outputs": [
    {
     "data": {
      "text/plain": [
       "Text(0.5, 1.0, 'ROC Curve')"
      ]
     },
     "execution_count": 36,
     "metadata": {},
     "output_type": "execute_result"
    },
    {
     "data": {
      "image/png": "[encoded data removed]",
      "text/plain": [
       "<Figure size 432x288 with 1 Axes>"
      ]
     },
     "metadata": {
      "needs_background": "light"
     },
     "output_type": "display_data"
    }
   ],
   "source": [
    "# Now train the model using these optimum hyperparametrs\n",
    "logistic_model=linear_model.LogisticRegression(penalty='l2', C=100, random_state=100, solver='newton-cg',max_iter=1000)\n",
    "logistic_model.fit(X_train_ro,y_train_ro)\n",
    "# Find the probability of the target to be 1\n",
    "predict_proba= logistic_model.predict_proba(X_test)[:,1]\n",
    "fpr, tpr, thresholds = metrics.roc_curve(y_test, predict_proba)\n",
    "# Plot the ROC curve to see which value of tpr and FPR will be a good option to choose\n",
    "plt.plot(fpr, tpr)\n",
    "plt.xlabel(\"FPR\")\n",
    "plt.ylabel(\"TPR\")\n",
    "plt.title(\"ROC Curve\")"
   ]
  },
  {
   "cell_type": "markdown",
   "metadata": {
    "papermill": {
     "duration": 0.079058,
     "end_time": "2021-01-03T05:22:36.781859",
     "exception": false,
     "start_time": "2021-01-03T05:22:36.702801",
     "status": "completed"
    },
    "tags": []
   },
   "source": [
    "From the plot we can see that 0.85 will be a good value for TPR"
   ]
  },
  {
   "cell_type": "code",
   "execution_count": 37,
   "metadata": {
    "execution": {
     "iopub.execute_input": "2021-01-03T05:22:36.959294Z",
     "iopub.status.busy": "2021-01-03T05:22:36.958602Z",
     "iopub.status.idle": "2021-01-03T05:22:37.102593Z",
     "shell.execute_reply": "2021-01-03T05:22:37.101947Z"
    },
    "papermill": {
     "duration": 0.240966,
     "end_time": "2021-01-03T05:22:37.102697",
     "exception": false,
     "start_time": "2021-01-03T05:22:36.861731",
     "status": "completed"
    },
    "tags": []
   },
   "outputs": [
    {
     "data": {
      "text/plain": [
       "Text(0.5, 1.0, 'TPR vs Thresholds')"
      ]
     },
     "execution_count": 37,
     "metadata": {},
     "output_type": "execute_result"
    },
    {
     "data": {
      "image/png": "[encoded data removed]",
      "text/plain": [
       "<Figure size 432x288 with 1 Axes>"
      ]
     },
     "metadata": {
      "needs_background": "light"
     },
     "output_type": "display_data"
    }
   ],
   "source": [
    "# Plot graph between tpr and thresholds to choose the threshold\n",
    "plt.plot(thresholds, tpr)\n",
    "plt.xlabel(\"Thresholds\")\n",
    "plt.ylabel(\"TPR\")\n",
    "plt.title(\"TPR vs Thresholds\")"
   ]
  },
  {
   "cell_type": "markdown",
   "metadata": {
    "papermill": {
     "duration": 0.0817,
     "end_time": "2021-01-03T05:22:37.266010",
     "exception": false,
     "start_time": "2021-01-03T05:22:37.184310",
     "status": "completed"
    },
    "tags": []
   },
   "source": [
    "From the above graph, the value of threshold correspond to TPR =0.85 should be around 0.06 "
   ]
  },
  {
   "cell_type": "code",
   "execution_count": 38,
   "metadata": {
    "execution": {
     "iopub.execute_input": "2021-01-03T05:22:37.438585Z",
     "iopub.status.busy": "2021-01-03T05:22:37.437560Z",
     "iopub.status.idle": "2021-01-03T05:22:37.482278Z",
     "shell.execute_reply": "2021-01-03T05:22:37.481591Z"
    },
    "papermill": {
     "duration": 0.135871,
     "end_time": "2021-01-03T05:22:37.482394",
     "exception": false,
     "start_time": "2021-01-03T05:22:37.346523",
     "status": "completed"
    },
    "tags": []
   },
   "outputs": [],
   "source": [
    "# By setting the threshold to be 0.999 the classes of the target will be\n",
    "# Prediction for train data\n",
    "y_train_pred=logistic_model.predict_proba(X_train_ro)[:,1]>0.999\n",
    "# Prediction for test data\n",
    "y_pred=predict_proba>0.999"
   ]
  },
  {
   "cell_type": "code",
   "execution_count": 39,
   "metadata": {
    "execution": {
     "iopub.execute_input": "2021-01-03T05:22:37.653507Z",
     "iopub.status.busy": "2021-01-03T05:22:37.652639Z",
     "iopub.status.idle": "2021-01-03T05:22:38.020758Z",
     "shell.execute_reply": "2021-01-03T05:22:38.019859Z"
    },
    "papermill": {
     "duration": 0.456349,
     "end_time": "2021-01-03T05:22:38.020893",
     "exception": false,
     "start_time": "2021-01-03T05:22:37.564544",
     "status": "completed"
    },
    "tags": []
   },
   "outputs": [
    {
     "name": "stdout",
     "output_type": "stream",
     "text": [
      "The recall score for the train data is:  0.8088174604663377\n",
      "The precision score for the train data is:  0.999495815851086\n",
      "The recall score for the test data is:  0.7723577235772358\n",
      "The precision score for the test data is:  0.7251908396946565\n"
     ]
    }
   ],
   "source": [
    "print(\"The recall score for the train data is: \", metrics.recall_score(y_train_ro, y_train_pred))\n",
    "print(\"The precision score for the train data is: \", metrics.precision_score(y_train_ro, y_train_pred))\n",
    "print(\"The recall score for the test data is: \", metrics.recall_score(y_test, y_pred))\n",
    "print(\"The precision score for the test data is: \", metrics.precision_score(y_test, y_pred))"
   ]
  },
  {
   "cell_type": "markdown",
   "metadata": {
    "papermill": {
     "duration": 0.121103,
     "end_time": "2021-01-03T05:22:38.263356",
     "exception": false,
     "start_time": "2021-01-03T05:22:38.142253",
     "status": "completed"
    },
    "tags": []
   },
   "source": [
    "### Similarly explore other algorithms on balanced dataset by building models like:\n",
    "- KNN\n",
    "- SVM\n",
    "- Decision Tree\n",
    "- Random Forest\n",
    "- XGBoost"
   ]
  },
  {
   "cell_type": "markdown",
   "metadata": {
    "papermill": {
     "duration": 0.121372,
     "end_time": "2021-01-03T05:22:38.507391",
     "exception": false,
     "start_time": "2021-01-03T05:22:38.386019",
     "status": "completed"
    },
    "tags": []
   },
   "source": [
    "### SMOTE"
   ]
  },
  {
   "cell_type": "markdown",
   "metadata": {
    "papermill": {
     "duration": 0.120475,
     "end_time": "2021-01-03T05:22:38.749608",
     "exception": false,
     "start_time": "2021-01-03T05:22:38.629133",
     "status": "completed"
    },
    "tags": []
   },
   "source": [
    "### Print the class distribution after applying SMOTE "
   ]
  },
  {
   "cell_type": "code",
   "execution_count": 40,
   "metadata": {
    "execution": {
     "iopub.execute_input": "2021-01-03T05:22:39.004225Z",
     "iopub.status.busy": "2021-01-03T05:22:39.000099Z",
     "iopub.status.idle": "2021-01-03T05:22:40.019967Z",
     "shell.execute_reply": "2021-01-03T05:22:40.019443Z"
    },
    "papermill": {
     "duration": 1.14947,
     "end_time": "2021-01-03T05:22:40.020078",
     "exception": false,
     "start_time": "2021-01-03T05:22:38.870608",
     "status": "completed"
    },
    "tags": []
   },
   "outputs": [
    {
     "data": {
      "text/plain": [
       "<matplotlib.legend.Legend at 0x7f3ac1625b10>"
      ]
     },
     "execution_count": 40,
     "metadata": {},
     "output_type": "execute_result"
    },
    {
     "data": {
      "image/png": "[encoded data removed]",
      "text/plain": [
       "<Figure size 1440x1440 with 3 Axes>"
      ]
     },
     "metadata": {
      "needs_background": "light"
     },
     "output_type": "display_data"
    }
   ],
   "source": [
    "import warnings\n",
    "warnings.filterwarnings(\"ignore\")\n",
    "\n",
    "\n",
    "sm = over_sampling.SMOTE(random_state=0)\n",
    "X_train_smote, y_train_smote = sm.fit_resample(X_train, y_train)\n",
    "# Artificial minority samples and corresponding minority labels from SMOTE are appended\n",
    "# below X_train and y_train respectively\n",
    "# So to exclusively get the artificial minority samples from SMOTE, we do\n",
    "X_train_smote_1 = X_train_smote[X_train.shape[0]:].to_numpy()\n",
    "\n",
    "X_train_1 = X_train.to_numpy()[np.where(y_train==1.0)]\n",
    "X_train_0 = X_train.to_numpy()[np.where(y_train==0.0)]\n",
    "\n",
    "\n",
    "\n",
    "fig = plt.figure(figsize=[20,20])\n",
    "\n",
    "plt.subplot(3, 1, 1)\n",
    "plt.scatter(X_train_1[:, 0], X_train_1[:, 1], label='Actual Class-1 Examples')\n",
    "plt.legend()\n",
    "\n",
    "plt.subplot(3, 1, 2)\n",
    "plt.scatter(X_train_1[:, 0], X_train_1[:, 1], label='Actual Class-1 Examples')\n",
    "plt.scatter(X_train_smote_1[:X_train_1.shape[0], 0], X_train_smote_1[:X_train_1.shape[0], 1],\n",
    "            label='Artificial SMOTE Class-1 Examples')\n",
    "plt.legend()\n",
    "\n",
    "plt.subplot(3, 1, 3)\n",
    "plt.scatter(X_train_1[:, 0], X_train_1[:, 1], label='Actual Class-1 Examples')\n",
    "plt.scatter(X_train_0[:X_train_1.shape[0], 0], X_train_0[:X_train_1.shape[0], 1], label='Actual Class-0 Examples')\n",
    "plt.legend()"
   ]
  },
  {
   "cell_type": "code",
   "execution_count": 41,
   "metadata": {
    "execution": {
     "iopub.execute_input": "2021-01-03T05:22:40.242196Z",
     "iopub.status.busy": "2021-01-03T05:22:40.241588Z",
     "iopub.status.idle": "2021-01-03T05:22:40.451835Z",
     "shell.execute_reply": "2021-01-03T05:22:40.451104Z"
    },
    "papermill": {
     "duration": 0.348851,
     "end_time": "2021-01-03T05:22:40.451947",
     "exception": false,
     "start_time": "2021-01-03T05:22:40.103096",
     "status": "completed"
    },
    "tags": []
   },
   "outputs": [
    {
     "data": {
      "text/plain": [
       "Text(0.5, 1.0, 'Percentage')"
      ]
     },
     "execution_count": 41,
     "metadata": {},
     "output_type": "execute_result"
    },
    {
     "data": {
      "image/png": "[encoded data removed]",
      "text/plain": [
       "<Figure size 432x288 with 2 Axes>"
      ]
     },
     "metadata": {
      "needs_background": "light"
     },
     "output_type": "display_data"
    }
   ],
   "source": [
    "# Now lets see the class distribution of oversampled data\n",
    "classes=y_train_smote.value_counts()\n",
    "normal_share=classes[0]/len(y_train_smote)*100\n",
    "fraud_share=classes[1]/len(y_train_smote)*100\n",
    "# Create a bar plot for the number and percentage of fraudulent vs non-fraudulent transcations\n",
    "fig, axs = plt.subplots(1,2)\n",
    "axs[0].bar(x=[\"normal_share\", \"fraud_share\"], height=classes)\n",
    "axs[0].set_title(\"Counts\")\n",
    "axs[1].bar(x=[\"normal_share\", \"fraud_share\"], height=[normal_share, fraud_share])\n",
    "axs[1].set_title(\"Percentage\")"
   ]
  },
  {
   "cell_type": "markdown",
   "metadata": {
    "papermill": {
     "duration": 0.086689,
     "end_time": "2021-01-03T05:22:40.626424",
     "exception": false,
     "start_time": "2021-01-03T05:22:40.539735",
     "status": "completed"
    },
    "tags": []
   },
   "source": [
    "### Logistic regression with SMOTE"
   ]
  },
  {
   "cell_type": "code",
   "execution_count": 42,
   "metadata": {
    "execution": {
     "iopub.execute_input": "2021-01-03T05:22:40.817824Z",
     "iopub.status.busy": "2021-01-03T05:22:40.817192Z",
     "iopub.status.idle": "2021-01-03T05:24:34.861741Z",
     "shell.execute_reply": "2021-01-03T05:24:34.862401Z"
    },
    "papermill": {
     "duration": 114.148765,
     "end_time": "2021-01-03T05:24:34.862545",
     "exception": false,
     "start_time": "2021-01-03T05:22:40.713780",
     "status": "completed"
    },
    "tags": []
   },
   "outputs": [
    {
     "name": "stdout",
     "output_type": "stream",
     "text": [
      "Time taken to run this is:  1.9  minutes\n"
     ]
    }
   ],
   "source": [
    "start=time.time()\n",
    "#perform hyperparameter tuning\n",
    "solvers = ['newton-cg', 'lbfgs', 'liblinear']\n",
    "penalty = ['l2']\n",
    "c_values = [100, 10, 1.0, 0.1, 0.01]\n",
    "skf=model_selection.StratifiedKFold(n_splits=5, shuffle=True, random_state=100)\n",
    "logistic_model=linear_model.LogisticRegression(random_state=100, max_iter=1000)\n",
    "# define grid search\n",
    "params = dict(solver=solvers,penalty=penalty,C=c_values)\n",
    "# The best evaluation metric to evealuate the strength of a model is auc roc score\n",
    "grid_search = model_selection.GridSearchCV(estimator=logistic_model, param_grid=params, n_jobs=-1, cv=skf, scoring='roc_auc', error_score=0)\n",
    "grid_result = grid_search.fit(X_train_smote, y_train_smote)\n",
    "end=time.time()\n",
    "print(\"Time taken to run this is: \", round((end-start)/60, 2), \" minutes\")"
   ]
  },
  {
   "cell_type": "code",
   "execution_count": 43,
   "metadata": {
    "execution": {
     "iopub.execute_input": "2021-01-03T05:24:35.044879Z",
     "iopub.status.busy": "2021-01-03T05:24:35.043859Z",
     "iopub.status.idle": "2021-01-03T05:24:35.049495Z",
     "shell.execute_reply": "2021-01-03T05:24:35.048787Z"
    },
    "papermill": {
     "duration": 0.099666,
     "end_time": "2021-01-03T05:24:35.049607",
     "exception": false,
     "start_time": "2021-01-03T05:24:34.949941",
     "status": "completed"
    },
    "tags": []
   },
   "outputs": [
    {
     "data": {
      "text/plain": [
       "LogisticRegression(C=100, max_iter=1000, random_state=100, solver='newton-cg')"
      ]
     },
     "execution_count": 43,
     "metadata": {},
     "output_type": "execute_result"
    }
   ],
   "source": [
    "# See the best estimator\n",
    "grid_result.best_estimator_"
   ]
  },
  {
   "cell_type": "code",
   "execution_count": 44,
   "metadata": {
    "execution": {
     "iopub.execute_input": "2021-01-03T05:24:35.229728Z",
     "iopub.status.busy": "2021-01-03T05:24:35.228706Z",
     "iopub.status.idle": "2021-01-03T05:24:35.234796Z",
     "shell.execute_reply": "2021-01-03T05:24:35.234065Z"
    },
    "papermill": {
     "duration": 0.098325,
     "end_time": "2021-01-03T05:24:35.234914",
     "exception": false,
     "start_time": "2021-01-03T05:24:35.136589",
     "status": "completed"
    },
    "tags": []
   },
   "outputs": [
    {
     "data": {
      "text/plain": [
       "0.991125173577138"
      ]
     },
     "execution_count": 44,
     "metadata": {},
     "output_type": "execute_result"
    }
   ],
   "source": [
    "# See best score\n",
    "grid_result.best_score_"
   ]
  },
  {
   "cell_type": "code",
   "execution_count": 45,
   "metadata": {
    "execution": {
     "iopub.execute_input": "2021-01-03T05:24:35.420387Z",
     "iopub.status.busy": "2021-01-03T05:24:35.419480Z",
     "iopub.status.idle": "2021-01-03T05:24:35.424887Z",
     "shell.execute_reply": "2021-01-03T05:24:35.424237Z"
    },
    "papermill": {
     "duration": 0.100069,
     "end_time": "2021-01-03T05:24:35.425000",
     "exception": false,
     "start_time": "2021-01-03T05:24:35.324931",
     "status": "completed"
    },
    "tags": []
   },
   "outputs": [
    {
     "name": "stdout",
     "output_type": "stream",
     "text": [
      "{'C': 100, 'penalty': 'l2', 'solver': 'newton-cg'}\n"
     ]
    }
   ],
   "source": [
    "#print the optimum value of hyperparameters\n",
    "print(grid_result.best_params_)"
   ]
  },
  {
   "cell_type": "code",
   "execution_count": 46,
   "metadata": {
    "execution": {
     "iopub.execute_input": "2021-01-03T05:24:35.612931Z",
     "iopub.status.busy": "2021-01-03T05:24:35.612291Z",
     "iopub.status.idle": "2021-01-03T05:24:41.912998Z",
     "shell.execute_reply": "2021-01-03T05:24:41.912333Z"
    },
    "papermill": {
     "duration": 6.398787,
     "end_time": "2021-01-03T05:24:41.913133",
     "exception": false,
     "start_time": "2021-01-03T05:24:35.514346",
     "status": "completed"
    },
    "tags": []
   },
   "outputs": [
    {
     "data": {
      "text/plain": [
       "Text(0.5, 1.0, 'ROC Curve')"
      ]
     },
     "execution_count": 46,
     "metadata": {},
     "output_type": "execute_result"
    },
    {
     "data": {
      "image/png": "[encoded data removed]",
      "text/plain": [
       "<Figure size 432x288 with 1 Axes>"
      ]
     },
     "metadata": {
      "needs_background": "light"
     },
     "output_type": "display_data"
    }
   ],
   "source": [
    "# Now train the model using these optimum hyperparametrs\n",
    "logistic_model=linear_model.LogisticRegression(penalty='l2', C=100, random_state=100, solver='newton-cg',max_iter=1000)\n",
    "logistic_model.fit(X_train_smote,y_train_smote)\n",
    "# Find the probability of the target to be 1\n",
    "predict_proba= logistic_model.predict_proba(X_test)[:,1]\n",
    "fpr, tpr, thresholds = metrics.roc_curve(y_test, predict_proba)\n",
    "# Plot the ROC curve to see which value of tpr and FPR will be a good option to choose\n",
    "plt.plot(fpr, tpr)\n",
    "plt.xlabel(\"FPR\")\n",
    "plt.ylabel(\"TPR\")\n",
    "plt.title(\"ROC Curve\")"
   ]
  },
  {
   "cell_type": "markdown",
   "metadata": {
    "papermill": {
     "duration": 0.131435,
     "end_time": "2021-01-03T05:24:42.176393",
     "exception": false,
     "start_time": "2021-01-03T05:24:42.044958",
     "status": "completed"
    },
    "tags": []
   },
   "source": [
    "From the plot we can see that 0.85 will be a good value for TPR"
   ]
  },
  {
   "cell_type": "code",
   "execution_count": 47,
   "metadata": {
    "execution": {
     "iopub.execute_input": "2021-01-03T05:24:42.445174Z",
     "iopub.status.busy": "2021-01-03T05:24:42.440106Z",
     "iopub.status.idle": "2021-01-03T05:24:42.605618Z",
     "shell.execute_reply": "2021-01-03T05:24:42.605068Z"
    },
    "papermill": {
     "duration": 0.296194,
     "end_time": "2021-01-03T05:24:42.605735",
     "exception": false,
     "start_time": "2021-01-03T05:24:42.309541",
     "status": "completed"
    },
    "tags": []
   },
   "outputs": [
    {
     "data": {
      "text/plain": [
       "Text(0.5, 1.0, 'TPR vs Thresholds')"
      ]
     },
     "execution_count": 47,
     "metadata": {},
     "output_type": "execute_result"
    },
    {
     "data": {
      "image/png": "[encoded data removed]",
      "text/plain": [
       "<Figure size 432x288 with 1 Axes>"
      ]
     },
     "metadata": {
      "needs_background": "light"
     },
     "output_type": "display_data"
    }
   ],
   "source": [
    "# Plot graph between tpr and thresholds to choose the threshold\n",
    "plt.plot(thresholds, tpr)\n",
    "plt.xlabel(\"Thresholds\")\n",
    "plt.ylabel(\"TPR\")\n",
    "plt.title(\"TPR vs Thresholds\")"
   ]
  },
  {
   "cell_type": "markdown",
   "metadata": {
    "papermill": {
     "duration": 0.090252,
     "end_time": "2021-01-03T05:24:42.788121",
     "exception": false,
     "start_time": "2021-01-03T05:24:42.697869",
     "status": "completed"
    },
    "tags": []
   },
   "source": [
    "From the above graph, the value of threshold correspond to TPR =0.85 should be around 0.06 "
   ]
  },
  {
   "cell_type": "code",
   "execution_count": 48,
   "metadata": {
    "execution": {
     "iopub.execute_input": "2021-01-03T05:24:42.994104Z",
     "iopub.status.busy": "2021-01-03T05:24:42.993505Z",
     "iopub.status.idle": "2021-01-03T05:24:43.039829Z",
     "shell.execute_reply": "2021-01-03T05:24:43.039284Z"
    },
    "papermill": {
     "duration": 0.14633,
     "end_time": "2021-01-03T05:24:43.039947",
     "exception": false,
     "start_time": "2021-01-03T05:24:42.893617",
     "status": "completed"
    },
    "tags": []
   },
   "outputs": [],
   "source": [
    "# By setting the threshold to be 0.999 the classes of the target will be\n",
    "# Prediction for train data\n",
    "y_train_pred=logistic_model.predict_proba(X_train_smote)[:,1]>0.999\n",
    "# Prediction for test data\n",
    "y_pred=predict_proba>0.999"
   ]
  },
  {
   "cell_type": "code",
   "execution_count": 49,
   "metadata": {
    "execution": {
     "iopub.execute_input": "2021-01-03T05:24:43.229747Z",
     "iopub.status.busy": "2021-01-03T05:24:43.228880Z",
     "iopub.status.idle": "2021-01-03T05:24:43.587382Z",
     "shell.execute_reply": "2021-01-03T05:24:43.586583Z"
    },
    "papermill": {
     "duration": 0.45655,
     "end_time": "2021-01-03T05:24:43.587515",
     "exception": false,
     "start_time": "2021-01-03T05:24:43.130965",
     "status": "completed"
    },
    "tags": []
   },
   "outputs": [
    {
     "name": "stdout",
     "output_type": "stream",
     "text": [
      "The recall score for the train data is:  0.8171181226434561\n",
      "The precision score for the train data is:  0.999535337310693\n",
      "The recall score for the test data is:  0.7804878048780488\n",
      "The precision score for the test data is:  0.732824427480916\n"
     ]
    }
   ],
   "source": [
    "print(\"The recall score for the train data is: \", metrics.recall_score(y_train_smote, y_train_pred))\n",
    "print(\"The precision score for the train data is: \", metrics.precision_score(y_train_smote, y_train_pred))\n",
    "print(\"The recall score for the test data is: \", metrics.recall_score(y_test, y_pred))\n",
    "print(\"The precision score for the test data is: \", metrics.precision_score(y_test, y_pred))"
   ]
  },
  {
   "cell_type": "markdown",
   "metadata": {
    "papermill": {
     "duration": 0.136382,
     "end_time": "2021-01-03T05:24:43.859207",
     "exception": false,
     "start_time": "2021-01-03T05:24:43.722825",
     "status": "completed"
    },
    "tags": []
   },
   "source": [
    "##### Build models on other algorithms to see the better performing on SMOTE"
   ]
  },
  {
   "cell_type": "markdown",
   "metadata": {
    "papermill": {
     "duration": 0.134224,
     "end_time": "2021-01-03T05:24:44.128792",
     "exception": false,
     "start_time": "2021-01-03T05:24:43.994568",
     "status": "completed"
    },
    "tags": []
   },
   "source": [
    "### ADASYN"
   ]
  },
  {
   "cell_type": "markdown",
   "metadata": {
    "papermill": {
     "duration": 0.133874,
     "end_time": "2021-01-03T05:24:44.397496",
     "exception": false,
     "start_time": "2021-01-03T05:24:44.263622",
     "status": "completed"
    },
    "tags": []
   },
   "source": [
    "### Print the class distribution after applying ADASYN"
   ]
  },
  {
   "cell_type": "code",
   "execution_count": 50,
   "metadata": {
    "execution": {
     "iopub.execute_input": "2021-01-03T05:24:44.682690Z",
     "iopub.status.busy": "2021-01-03T05:24:44.681984Z",
     "iopub.status.idle": "2021-01-03T05:24:51.119540Z",
     "shell.execute_reply": "2021-01-03T05:24:51.120302Z"
    },
    "papermill": {
     "duration": 6.587538,
     "end_time": "2021-01-03T05:24:51.120493",
     "exception": false,
     "start_time": "2021-01-03T05:24:44.532955",
     "status": "completed"
    },
    "tags": []
   },
   "outputs": [
    {
     "data": {
      "text/plain": [
       "<matplotlib.legend.Legend at 0x7f3ab40c3ad0>"
      ]
     },
     "execution_count": 50,
     "metadata": {},
     "output_type": "execute_result"
    },
    {
     "data": {
      "image/png": "[encoded data removed]",
      "text/plain": [
       "<Figure size 1440x1440 with 3 Axes>"
      ]
     },
     "metadata": {
      "needs_background": "light"
     },
     "output_type": "display_data"
    }
   ],
   "source": [
    "import warnings\n",
    "warnings.filterwarnings(\"ignore\")\n",
    "\n",
    "from imblearn import over_sampling\n",
    "\n",
    "ada = over_sampling.ADASYN(random_state=0)\n",
    "X_train_adasyn, y_train_adasyn = ada.fit_resample(X_train, y_train)\n",
    "# Artificial minority samples and corresponding minority labels from ADASYN are appended\n",
    "# below X_train and y_train respectively\n",
    "# So to exclusively get the artificial minority samples from ADASYN, we do\n",
    "X_train_adasyn_1 = X_train_adasyn[X_train.shape[0]:].to_numpy()\n",
    "\n",
    "X_train_1 = X_train.to_numpy()[np.where(y_train==1.0)]\n",
    "X_train_0 = X_train.to_numpy()[np.where(y_train==0.0)]\n",
    "\n",
    "\n",
    "fig = plt.figure(figsize=[20,20])\n",
    "\n",
    "plt.subplot(3, 1, 1)\n",
    "plt.scatter(X_train_1[:, 0], X_train_1[:, 1], label='Actual Class-1 Examples')\n",
    "plt.legend()\n",
    "\n",
    "plt.subplot(3, 1, 2)\n",
    "plt.scatter(X_train_1[:, 0], X_train_1[:, 1], label='Actual Class-1 Examples')\n",
    "plt.scatter(X_train_adasyn_1[:X_train_1.shape[0], 0], X_train_adasyn_1[:X_train_1.shape[0], 1],\n",
    "            label='Artificial ADASYN Class-1 Examples')\n",
    "plt.legend()\n",
    "\n",
    "plt.subplot(3, 1, 3)\n",
    "plt.scatter(X_train_1[:, 0], X_train_1[:, 1], label='Actual Class-1 Examples')\n",
    "plt.scatter(X_train_0[:X_train_1.shape[0], 0], X_train_0[:X_train_1.shape[0], 1], label='Actual Class-0 Examples')\n",
    "plt.legend()"
   ]
  },
  {
   "cell_type": "code",
   "execution_count": 51,
   "metadata": {
    "execution": {
     "iopub.execute_input": "2021-01-03T05:24:51.466596Z",
     "iopub.status.busy": "2021-01-03T05:24:51.465529Z",
     "iopub.status.idle": "2021-01-03T05:24:51.728677Z",
     "shell.execute_reply": "2021-01-03T05:24:51.729277Z"
    },
    "papermill": {
     "duration": 0.469645,
     "end_time": "2021-01-03T05:24:51.729462",
     "exception": false,
     "start_time": "2021-01-03T05:24:51.259817",
     "status": "completed"
    },
    "tags": []
   },
   "outputs": [
    {
     "data": {
      "text/plain": [
       "Text(0.5, 1.0, 'Percentage')"
      ]
     },
     "execution_count": 51,
     "metadata": {},
     "output_type": "execute_result"
    },
    {
     "data": {
      "image/png": "[encoded data removed]",
      "text/plain": [
       "<Figure size 432x288 with 2 Axes>"
      ]
     },
     "metadata": {
      "needs_background": "light"
     },
     "output_type": "display_data"
    }
   ],
   "source": [
    "# Now lets see the class distribution of oversampled data\n",
    "classes=y_train_adasyn.value_counts()\n",
    "normal_share=classes[0]/len(y_train_adasyn)*100\n",
    "fraud_share=classes[1]/len(y_train_adasyn)*100\n",
    "# Create a bar plot for the number and percentage of fraudulent vs non-fraudulent transcations\n",
    "fig, axs = plt.subplots(1,2)\n",
    "axs[0].bar(x=[\"normal_share\", \"fraud_share\"], height=classes)\n",
    "axs[0].set_title(\"Counts\")\n",
    "axs[1].bar(x=[\"normal_share\", \"fraud_share\"], height=[normal_share, fraud_share])\n",
    "axs[1].set_title(\"Percentage\")"
   ]
  },
  {
   "cell_type": "markdown",
   "metadata": {
    "papermill": {
     "duration": 0.097435,
     "end_time": "2021-01-03T05:24:51.924621",
     "exception": false,
     "start_time": "2021-01-03T05:24:51.827186",
     "status": "completed"
    },
    "tags": []
   },
   "source": [
    "### Logistic regression with ADASYN"
   ]
  },
  {
   "cell_type": "code",
   "execution_count": 52,
   "metadata": {
    "execution": {
     "iopub.execute_input": "2021-01-03T05:24:52.127860Z",
     "iopub.status.busy": "2021-01-03T05:24:52.126515Z",
     "iopub.status.idle": "2021-01-03T05:26:46.455526Z",
     "shell.execute_reply": "2021-01-03T05:26:46.456243Z"
    },
    "papermill": {
     "duration": 114.435353,
     "end_time": "2021-01-03T05:26:46.456414",
     "exception": false,
     "start_time": "2021-01-03T05:24:52.021061",
     "status": "completed"
    },
    "tags": []
   },
   "outputs": [
    {
     "name": "stdout",
     "output_type": "stream",
     "text": [
      "Time taken to run this is:  1.9  minutes\n"
     ]
    }
   ],
   "source": [
    "start=time.time()\n",
    "#perform hyperparameter tuning\n",
    "solvers = ['newton-cg', 'lbfgs', 'liblinear']\n",
    "penalty = ['l2']\n",
    "c_values = [100, 10, 1.0, 0.1, 0.01]\n",
    "skf=model_selection.StratifiedKFold(n_splits=5, shuffle=True, random_state=100)\n",
    "logistic_model=linear_model.LogisticRegression(random_state=100, max_iter=1000)\n",
    "# define grid search\n",
    "params = dict(solver=solvers,penalty=penalty,C=c_values)\n",
    "# The best evaluation metric to evealuate the strength of a model is auc roc score\n",
    "grid_search = model_selection.GridSearchCV(estimator=logistic_model, param_grid=params, n_jobs=-1, cv=skf, scoring='roc_auc', error_score=0)\n",
    "grid_result = grid_search.fit(X_train_adasyn, y_train_adasyn)\n",
    "end=time.time()\n",
    "print(\"Time taken to run this is: \", round((end-start)/60, 2), \" minutes\")"
   ]
  },
  {
   "cell_type": "code",
   "execution_count": 53,
   "metadata": {
    "execution": {
     "iopub.execute_input": "2021-01-03T05:26:46.658053Z",
     "iopub.status.busy": "2021-01-03T05:26:46.657374Z",
     "iopub.status.idle": "2021-01-03T05:26:46.663705Z",
     "shell.execute_reply": "2021-01-03T05:26:46.663107Z"
    },
    "papermill": {
     "duration": 0.108859,
     "end_time": "2021-01-03T05:26:46.663837",
     "exception": false,
     "start_time": "2021-01-03T05:26:46.554978",
     "status": "completed"
    },
    "tags": []
   },
   "outputs": [
    {
     "data": {
      "text/plain": [
       "LogisticRegression(C=100, max_iter=1000, random_state=100, solver='newton-cg')"
      ]
     },
     "execution_count": 53,
     "metadata": {},
     "output_type": "execute_result"
    }
   ],
   "source": [
    "# See the best estimator\n",
    "grid_result.best_estimator_"
   ]
  },
  {
   "cell_type": "code",
   "execution_count": 54,
   "metadata": {
    "execution": {
     "iopub.execute_input": "2021-01-03T05:26:46.877242Z",
     "iopub.status.busy": "2021-01-03T05:26:46.876397Z",
     "iopub.status.idle": "2021-01-03T05:26:46.881632Z",
     "shell.execute_reply": "2021-01-03T05:26:46.880930Z"
    },
    "papermill": {
     "duration": 0.117905,
     "end_time": "2021-01-03T05:26:46.881756",
     "exception": false,
     "start_time": "2021-01-03T05:26:46.763851",
     "status": "completed"
    },
    "tags": []
   },
   "outputs": [
    {
     "data": {
      "text/plain": [
       "0.9688701530668979"
      ]
     },
     "execution_count": 54,
     "metadata": {},
     "output_type": "execute_result"
    }
   ],
   "source": [
    "# See best score\n",
    "grid_result.best_score_"
   ]
  },
  {
   "cell_type": "code",
   "execution_count": 55,
   "metadata": {
    "execution": {
     "iopub.execute_input": "2021-01-03T05:26:47.087279Z",
     "iopub.status.busy": "2021-01-03T05:26:47.086573Z",
     "iopub.status.idle": "2021-01-03T05:26:47.091230Z",
     "shell.execute_reply": "2021-01-03T05:26:47.090699Z"
    },
    "papermill": {
     "duration": 0.108584,
     "end_time": "2021-01-03T05:26:47.091337",
     "exception": false,
     "start_time": "2021-01-03T05:26:46.982753",
     "status": "completed"
    },
    "tags": []
   },
   "outputs": [
    {
     "name": "stdout",
     "output_type": "stream",
     "text": [
      "{'C': 100, 'penalty': 'l2', 'solver': 'newton-cg'}\n"
     ]
    }
   ],
   "source": [
    "#print the optimum value of hyperparameters\n",
    "print(grid_result.best_params_)"
   ]
  },
  {
   "cell_type": "code",
   "execution_count": 56,
   "metadata": {
    "execution": {
     "iopub.execute_input": "2021-01-03T05:26:47.296992Z",
     "iopub.status.busy": "2021-01-03T05:26:47.296372Z",
     "iopub.status.idle": "2021-01-03T05:26:53.701551Z",
     "shell.execute_reply": "2021-01-03T05:26:53.700969Z"
    },
    "papermill": {
     "duration": 6.512612,
     "end_time": "2021-01-03T05:26:53.701659",
     "exception": false,
     "start_time": "2021-01-03T05:26:47.189047",
     "status": "completed"
    },
    "tags": []
   },
   "outputs": [
    {
     "data": {
      "text/plain": [
       "Text(0.5, 1.0, 'ROC Curve')"
      ]
     },
     "execution_count": 56,
     "metadata": {},
     "output_type": "execute_result"
    },
    {
     "data": {
      "image/png": "[encoded data removed]",
      "text/plain": [
       "<Figure size 432x288 with 1 Axes>"
      ]
     },
     "metadata": {
      "needs_background": "light"
     },
     "output_type": "display_data"
    }
   ],
   "source": [
    "# Now train the model using these optimum hyperparametrs\n",
    "logistic_model=linear_model.LogisticRegression(penalty='l2', C=100, random_state=100, solver='newton-cg',max_iter=1000)\n",
    "logistic_model.fit(X_train_adasyn,y_train_adasyn)\n",
    "# Find the probability of the target to be 1\n",
    "predict_proba= logistic_model.predict_proba(X_test)[:,1]\n",
    "fpr, tpr, thresholds = metrics.roc_curve(y_test, predict_proba)\n",
    "# Plot the ROC curve to see which value of tpr and FPR will be a good option to choose\n",
    "plt.plot(fpr, tpr)\n",
    "plt.xlabel(\"FPR\")\n",
    "plt.ylabel(\"TPR\")\n",
    "plt.title(\"ROC Curve\")"
   ]
  },
  {
   "cell_type": "markdown",
   "metadata": {
    "papermill": {
     "duration": 0.099767,
     "end_time": "2021-01-03T05:26:53.901663",
     "exception": false,
     "start_time": "2021-01-03T05:26:53.801896",
     "status": "completed"
    },
    "tags": []
   },
   "source": [
    "From the plot we can see that 0.85 will be a good value for TPR"
   ]
  },
  {
   "cell_type": "code",
   "execution_count": 57,
   "metadata": {
    "execution": {
     "iopub.execute_input": "2021-01-03T05:26:54.121229Z",
     "iopub.status.busy": "2021-01-03T05:26:54.120213Z",
     "iopub.status.idle": "2021-01-03T05:26:54.272902Z",
     "shell.execute_reply": "2021-01-03T05:26:54.271996Z"
    },
    "papermill": {
     "duration": 0.271332,
     "end_time": "2021-01-03T05:26:54.273043",
     "exception": false,
     "start_time": "2021-01-03T05:26:54.001711",
     "status": "completed"
    },
    "tags": []
   },
   "outputs": [
    {
     "data": {
      "text/plain": [
       "Text(0.5, 1.0, 'TPR vs Thresholds')"
      ]
     },
     "execution_count": 57,
     "metadata": {},
     "output_type": "execute_result"
    },
    {
     "data": {
      "image/png": "[encoded data removed]",
      "text/plain": [
       "<Figure size 432x288 with 1 Axes>"
      ]
     },
     "metadata": {
      "needs_background": "light"
     },
     "output_type": "display_data"
    }
   ],
   "source": [
    "# Plot graph between tpr and thresholds to choose the threshold\n",
    "plt.plot(thresholds, tpr)\n",
    "plt.xlabel(\"Thresholds\")\n",
    "plt.ylabel(\"TPR\")\n",
    "plt.title(\"TPR vs Thresholds\")"
   ]
  },
  {
   "cell_type": "markdown",
   "metadata": {
    "papermill": {
     "duration": 0.148202,
     "end_time": "2021-01-03T05:26:54.569938",
     "exception": false,
     "start_time": "2021-01-03T05:26:54.421736",
     "status": "completed"
    },
    "tags": []
   },
   "source": [
    "From the above graph, the value of threshold correspond to TPR =0.85 should be around 0.06 "
   ]
  },
  {
   "cell_type": "code",
   "execution_count": 58,
   "metadata": {
    "execution": {
     "iopub.execute_input": "2021-01-03T05:26:54.875479Z",
     "iopub.status.busy": "2021-01-03T05:26:54.874371Z",
     "iopub.status.idle": "2021-01-03T05:26:54.901427Z",
     "shell.execute_reply": "2021-01-03T05:26:54.900731Z"
    },
    "papermill": {
     "duration": 0.181734,
     "end_time": "2021-01-03T05:26:54.901538",
     "exception": false,
     "start_time": "2021-01-03T05:26:54.719804",
     "status": "completed"
    },
    "tags": []
   },
   "outputs": [],
   "source": [
    "# By setting the threshold to be 0.06 the classes of the target will be\n",
    "# Prediction for train data\n",
    "y_train_pred=logistic_model.predict_proba(X_train_adasyn)[:,1]>0.999\n",
    "# Prediction for test data\n",
    "y_pred=predict_proba>0.999"
   ]
  },
  {
   "cell_type": "code",
   "execution_count": 59,
   "metadata": {
    "execution": {
     "iopub.execute_input": "2021-01-03T05:26:55.117496Z",
     "iopub.status.busy": "2021-01-03T05:26:55.116797Z",
     "iopub.status.idle": "2021-01-03T05:26:55.461326Z",
     "shell.execute_reply": "2021-01-03T05:26:55.460425Z"
    },
    "papermill": {
     "duration": 0.456559,
     "end_time": "2021-01-03T05:26:55.461449",
     "exception": false,
     "start_time": "2021-01-03T05:26:55.004890",
     "status": "completed"
    },
    "tags": []
   },
   "outputs": [
    {
     "name": "stdout",
     "output_type": "stream",
     "text": [
      "The recall score for the train data is:  0.4170117378928067\n",
      "The precision score for the train data is:  0.9975656544126721\n",
      "The recall score for the test data is:  0.8048780487804879\n",
      "The precision score for the test data is:  0.5755813953488372\n"
     ]
    }
   ],
   "source": [
    "print(\"The recall score for the train data is: \", metrics.recall_score(y_train_adasyn, y_train_pred))\n",
    "print(\"The precision score for the train data is: \", metrics.precision_score(y_train_adasyn, y_train_pred))\n",
    "print(\"The recall score for the test data is: \", metrics.recall_score(y_test, y_pred))\n",
    "print(\"The precision score for the test data is: \", metrics.precision_score(y_test, y_pred))"
   ]
  },
  {
   "cell_type": "code",
   "execution_count": 60,
   "metadata": {
    "execution": {
     "iopub.execute_input": "2021-01-03T05:26:55.675755Z",
     "iopub.status.busy": "2021-01-03T05:26:55.674523Z",
     "iopub.status.idle": "2021-01-03T05:26:55.678358Z",
     "shell.execute_reply": "2021-01-03T05:26:55.677644Z"
    },
    "papermill": {
     "duration": 0.111823,
     "end_time": "2021-01-03T05:26:55.678497",
     "exception": false,
     "start_time": "2021-01-03T05:26:55.566674",
     "status": "completed"
    },
    "tags": []
   },
   "outputs": [],
   "source": [
    "#perform cross validation & then balance classes on X_train_cv & y_train_cv using ADASYN\n",
    "\n",
    "#perform hyperparameter tuning\n",
    "\n",
    "#print the evaluation result by choosing a evaluation metric\n",
    "\n",
    "#print the optimum value of hyperparameters\n"
   ]
  },
  {
   "cell_type": "markdown",
   "metadata": {
    "papermill": {
     "duration": 0.151153,
     "end_time": "2021-01-03T05:26:55.980857",
     "exception": false,
     "start_time": "2021-01-03T05:26:55.829704",
     "status": "completed"
    },
    "tags": []
   },
   "source": [
    "##### Build models on other algorithms to see the better performing on ADASYN"
   ]
  },
  {
   "cell_type": "markdown",
   "metadata": {
    "papermill": {
     "duration": 0.148978,
     "end_time": "2021-01-03T05:26:56.279567",
     "exception": false,
     "start_time": "2021-01-03T05:26:56.130589",
     "status": "completed"
    },
    "tags": []
   },
   "source": [
    "### Select the oversampling method which shows the best result on a model\n",
    "- Apply the best hyperparameter on the model\n",
    "- Predict on the test dataset"
   ]
  },
  {
   "cell_type": "code",
   "execution_count": 61,
   "metadata": {
    "execution": {
     "iopub.execute_input": "2021-01-03T05:26:56.591352Z",
     "iopub.status.busy": "2021-01-03T05:26:56.590404Z",
     "iopub.status.idle": "2021-01-03T05:26:56.595893Z",
     "shell.execute_reply": "2021-01-03T05:26:56.596696Z"
    },
    "papermill": {
     "duration": 0.167667,
     "end_time": "2021-01-03T05:26:56.596867",
     "exception": false,
     "start_time": "2021-01-03T05:26:56.429200",
     "status": "completed"
    },
    "tags": []
   },
   "outputs": [
    {
     "ename": "SyntaxError",
     "evalue": "invalid syntax (<ipython-input-61-801fe6b640c4>, line 5)",
     "output_type": "error",
     "traceback": [
      "\u001b[0;36m  File \u001b[0;32m\"<ipython-input-61-801fe6b640c4>\"\u001b[0;36m, line \u001b[0;32m5\u001b[0m\n\u001b[0;31m    print() --> #print the evaluation score on the X_test by choosing the best evaluation metric\u001b[0m\n\u001b[0m              ^\u001b[0m\n\u001b[0;31mSyntaxError\u001b[0m\u001b[0;31m:\u001b[0m invalid syntax\n"
     ]
    }
   ],
   "source": [
    "# perform the best oversampling method on X_train & y_train\n",
    "\n",
    "clf = ___  #initialise the model with optimum hyperparameters\n",
    "clf.fit( ) # fit on the balanced dataset\n",
    "print() --> #print the evaluation score on the X_test by choosing the best evaluation metric"
   ]
  },
  {
   "cell_type": "markdown",
   "metadata": {
    "papermill": {
     "duration": 0.103086,
     "end_time": "2021-01-03T05:26:56.804953",
     "exception": false,
     "start_time": "2021-01-03T05:26:56.701867",
     "status": "completed"
    },
    "tags": []
   },
   "source": [
    "### Print the important features of the best model to understand the dataset"
   ]
  },
  {
   "cell_type": "code",
   "execution_count": 62,
   "metadata": {
    "execution": {
     "iopub.execute_input": "2021-01-03T05:26:57.025321Z",
     "iopub.status.busy": "2021-01-03T05:26:57.020242Z",
     "iopub.status.idle": "2021-01-03T05:26:57.055668Z",
     "shell.execute_reply": "2021-01-03T05:26:57.054826Z"
    },
    "papermill": {
     "duration": 0.147398,
     "end_time": "2021-01-03T05:26:57.055811",
     "exception": false,
     "start_time": "2021-01-03T05:26:56.908413",
     "status": "completed"
    },
    "tags": []
   },
   "outputs": [
    {
     "ename": "NameError",
     "evalue": "name 'clf' is not defined",
     "output_type": "error",
     "traceback": [
      "\u001b[0;31m---------------------------------------------------------------------------\u001b[0m",
      "\u001b[0;31mNameError\u001b[0m                                 Traceback (most recent call last)",
      "\u001b[0;32m<ipython-input-62-579652f627a3>\u001b[0m in \u001b[0;36m<module>\u001b[0;34m\u001b[0m\n\u001b[1;32m      1\u001b[0m \u001b[0mvar_imp\u001b[0m \u001b[0;34m=\u001b[0m \u001b[0;34m[\u001b[0m\u001b[0;34m]\u001b[0m\u001b[0;34m\u001b[0m\u001b[0;34m\u001b[0m\u001b[0m\n\u001b[0;32m----> 2\u001b[0;31m \u001b[0;32mfor\u001b[0m \u001b[0mi\u001b[0m \u001b[0;32min\u001b[0m \u001b[0mclf\u001b[0m\u001b[0;34m.\u001b[0m\u001b[0mfeature_importances_\u001b[0m\u001b[0;34m:\u001b[0m\u001b[0;34m\u001b[0m\u001b[0;34m\u001b[0m\u001b[0m\n\u001b[0m\u001b[1;32m      3\u001b[0m     \u001b[0mvar_imp\u001b[0m\u001b[0;34m.\u001b[0m\u001b[0mappend\u001b[0m\u001b[0;34m(\u001b[0m\u001b[0mi\u001b[0m\u001b[0;34m)\u001b[0m\u001b[0;34m\u001b[0m\u001b[0;34m\u001b[0m\u001b[0m\n\u001b[1;32m      4\u001b[0m \u001b[0mprint\u001b[0m\u001b[0;34m(\u001b[0m\u001b[0;34m'Top var ='\u001b[0m\u001b[0;34m,\u001b[0m \u001b[0mvar_imp\u001b[0m\u001b[0;34m.\u001b[0m\u001b[0mindex\u001b[0m\u001b[0;34m(\u001b[0m\u001b[0mnp\u001b[0m\u001b[0;34m.\u001b[0m\u001b[0msort\u001b[0m\u001b[0;34m(\u001b[0m\u001b[0mclf\u001b[0m\u001b[0;34m.\u001b[0m\u001b[0mfeature_importances_\u001b[0m\u001b[0;34m)\u001b[0m\u001b[0;34m[\u001b[0m\u001b[0;34m-\u001b[0m\u001b[0;36m1\u001b[0m\u001b[0;34m]\u001b[0m\u001b[0;34m)\u001b[0m\u001b[0;34m+\u001b[0m\u001b[0;36m1\u001b[0m\u001b[0;34m)\u001b[0m\u001b[0;34m\u001b[0m\u001b[0;34m\u001b[0m\u001b[0m\n\u001b[1;32m      5\u001b[0m \u001b[0mprint\u001b[0m\u001b[0;34m(\u001b[0m\u001b[0;34m'2nd Top var ='\u001b[0m\u001b[0;34m,\u001b[0m \u001b[0mvar_imp\u001b[0m\u001b[0;34m.\u001b[0m\u001b[0mindex\u001b[0m\u001b[0;34m(\u001b[0m\u001b[0mnp\u001b[0m\u001b[0;34m.\u001b[0m\u001b[0msort\u001b[0m\u001b[0;34m(\u001b[0m\u001b[0mclf\u001b[0m\u001b[0;34m.\u001b[0m\u001b[0mfeature_importances_\u001b[0m\u001b[0;34m)\u001b[0m\u001b[0;34m[\u001b[0m\u001b[0;34m-\u001b[0m\u001b[0;36m2\u001b[0m\u001b[0;34m]\u001b[0m\u001b[0;34m)\u001b[0m\u001b[0;34m+\u001b[0m\u001b[0;36m1\u001b[0m\u001b[0;34m)\u001b[0m\u001b[0;34m\u001b[0m\u001b[0;34m\u001b[0m\u001b[0m\n",
      "\u001b[0;31mNameError\u001b[0m: name 'clf' is not defined"
     ]
    }
   ],
   "source": [
    "var_imp = []\n",
    "for i in clf.feature_importances_:\n",
    "    var_imp.append(i)\n",
    "print('Top var =', var_imp.index(np.sort(clf.feature_importances_)[-1])+1)\n",
    "print('2nd Top var =', var_imp.index(np.sort(clf.feature_importances_)[-2])+1)\n",
    "print('3rd Top var =', var_imp.index(np.sort(clf.feature_importances_)[-3])+1)\n",
    "\n",
    "# Variable on Index-13 and Index-9 seems to be the top 2 variables\n",
    "top_var_index = var_imp.index(np.sort(clf.feature_importances_)[-1])\n",
    "second_top_var_index = var_imp.index(np.sort(clf.feature_importances_)[-2])\n",
    "\n",
    "X_train_1 = X_train.to_numpy()[np.where(y_train==1.0)]\n",
    "X_train_0 = X_train.to_numpy()[np.where(y_train==0.0)]\n",
    "\n",
    "np.random.shuffle(X_train_0)\n",
    "\n",
    "import matplotlib.pyplot as plt\n",
    "%matplotlib inline\n",
    "plt.rcParams['figure.figsize'] = [20, 20]\n",
    "\n",
    "plt.scatter(X_train_1[:, top_var_index], X_train_1[:, second_top_var_index], label='Actual Class-1 Examples')\n",
    "plt.scatter(X_train_0[:X_train_1.shape[0], top_var_index], X_train_0[:X_train_1.shape[0], second_top_var_index],\n",
    "            label='Actual Class-0 Examples')\n",
    "plt.legend()"
   ]
  },
  {
   "cell_type": "code",
   "execution_count": 63,
   "metadata": {
    "execution": {
     "iopub.execute_input": "2021-01-03T05:26:57.365187Z",
     "iopub.status.busy": "2021-01-03T05:26:57.364676Z",
     "iopub.status.idle": "2021-01-03T05:26:57.368286Z",
     "shell.execute_reply": "2021-01-03T05:26:57.367471Z"
    },
    "papermill": {
     "duration": 0.160981,
     "end_time": "2021-01-03T05:26:57.368377",
     "exception": false,
     "start_time": "2021-01-03T05:26:57.207396",
     "status": "completed"
    },
    "tags": []
   },
   "outputs": [],
   "source": [
    "#### Print the FPR,TPR & select the best threshold from the roc curve"
   ]
  },
  {
   "cell_type": "code",
   "execution_count": 64,
   "metadata": {
    "execution": {
     "iopub.execute_input": "2021-01-03T05:26:57.529471Z",
     "iopub.status.busy": "2021-01-03T05:26:57.528596Z",
     "iopub.status.idle": "2021-01-03T05:26:57.534638Z",
     "shell.execute_reply": "2021-01-03T05:26:57.533747Z"
    },
    "papermill": {
     "duration": 0.093536,
     "end_time": "2021-01-03T05:26:57.534793",
     "exception": false,
     "start_time": "2021-01-03T05:26:57.441257",
     "status": "completed"
    },
    "tags": []
   },
   "outputs": [
    {
     "ename": "SyntaxError",
     "evalue": "invalid syntax (<ipython-input-64-38cb177ff8f4>, line 2)",
     "output_type": "error",
     "traceback": [
      "\u001b[0;36m  File \u001b[0;32m\"<ipython-input-64-38cb177ff8f4>\"\u001b[0;36m, line \u001b[0;32m2\u001b[0m\n\u001b[0;31m    fpr, tpr, thresholds = metrics.roc_curve(_________)\u001b[0m\n\u001b[0m      ^\u001b[0m\n\u001b[0;31mSyntaxError\u001b[0m\u001b[0;31m:\u001b[0m invalid syntax\n"
     ]
    }
   ],
   "source": [
    "print('Train auc =', metrics.roc_auc_score(_________)\n",
    "fpr, tpr, thresholds = metrics.roc_curve(_________)\n",
    "threshold = thresholds[np.argmax(tpr-fpr)]\n",
    "print(threshold)"
   ]
  }
 ],
 "metadata": {
  "kernelspec": {
   "display_name": "Python 3",
   "language": "python",
   "name": "python3"
  },
  "language_info": {
   "codemirror_mode": {
    "name": "ipython",
    "version": 3
   },
   "file_extension": ".py",
   "mimetype": "text/x-python",
   "name": "python",
   "nbconvert_exporter": "python",
   "pygments_lexer": "ipython3",
   "version": "3.7.6"
  },
  "papermill": {
   "duration": 473.597969,
   "end_time": "2021-01-03T05:26:57.795169",
   "environment_variables": {},
   "exception": null,
   "input_path": "__notebook__.ipynb",
   "output_path": "__notebook__.ipynb",
   "parameters": {},
   "start_time": "2021-01-03T05:19:04.197200",
   "version": "2.1.0"
  }
 },
 "nbformat": 4,
 "nbformat_minor": 4
}
